{
  "nbformat": 4,
  "nbformat_minor": 0,
  "metadata": {
    "accelerator": "GPU",
    "colab": {
      "name": "main_CNN_prune_FashionMNIST.ipynb",
      "provenance": [],
      "collapsed_sections": []
    },
    "kernelspec": {
      "display_name": "Python 3",
      "language": "python",
      "name": "python3"
    },
    "language_info": {
      "codemirror_mode": {
        "name": "ipython",
        "version": 3
      },
      "file_extension": ".py",
      "mimetype": "text/x-python",
      "name": "python",
      "nbconvert_exporter": "python",
      "pygments_lexer": "ipython3",
      "version": "3.6.10-final"
    },
    "widgets": {
      "application/vnd.jupyter.widget-state+json": {
        "150912e723924e9ba8aee11a28e36e43": {
          "model_module": "@jupyter-widgets/controls",
          "model_name": "HBoxModel",
          "state": {
            "_dom_classes": [],
            "_model_module": "@jupyter-widgets/controls",
            "_model_module_version": "1.5.0",
            "_model_name": "HBoxModel",
            "_view_count": null,
            "_view_module": "@jupyter-widgets/controls",
            "_view_module_version": "1.5.0",
            "_view_name": "HBoxView",
            "box_style": "",
            "children": [
              "IPY_MODEL_077a1b3d63b14b24b0e5fca8724a6c56",
              "IPY_MODEL_104613dd058645269e2630d7b29ae8c6"
            ],
            "layout": "IPY_MODEL_550dba50d86a43d9bc0584fff718fab5"
          }
        },
        "077a1b3d63b14b24b0e5fca8724a6c56": {
          "model_module": "@jupyter-widgets/controls",
          "model_name": "FloatProgressModel",
          "state": {
            "_dom_classes": [],
            "_model_module": "@jupyter-widgets/controls",
            "_model_module_version": "1.5.0",
            "_model_name": "FloatProgressModel",
            "_view_count": null,
            "_view_module": "@jupyter-widgets/controls",
            "_view_module_version": "1.5.0",
            "_view_name": "ProgressView",
            "bar_style": "success",
            "description": "100%",
            "description_tooltip": null,
            "layout": "IPY_MODEL_8f7887a92a53493faa84a81c3eb8505d",
            "max": 553433881,
            "min": 0,
            "orientation": "horizontal",
            "style": "IPY_MODEL_50012181061d4494bb3d43405fa254e7",
            "value": 553433881
          }
        },
        "104613dd058645269e2630d7b29ae8c6": {
          "model_module": "@jupyter-widgets/controls",
          "model_name": "HTMLModel",
          "state": {
            "_dom_classes": [],
            "_model_module": "@jupyter-widgets/controls",
            "_model_module_version": "1.5.0",
            "_model_name": "HTMLModel",
            "_view_count": null,
            "_view_module": "@jupyter-widgets/controls",
            "_view_module_version": "1.5.0",
            "_view_name": "HTMLView",
            "description": "",
            "description_tooltip": null,
            "layout": "IPY_MODEL_b68f8c9332eb41659f0fcb71c04b6452",
            "placeholder": "​",
            "style": "IPY_MODEL_48099ec349be4727976df6d29a9d5570",
            "value": " 528M/528M [00:15&lt;00:00, 34.6MB/s]"
          }
        },
        "550dba50d86a43d9bc0584fff718fab5": {
          "model_module": "@jupyter-widgets/base",
          "model_name": "LayoutModel",
          "state": {
            "_model_module": "@jupyter-widgets/base",
            "_model_module_version": "1.2.0",
            "_model_name": "LayoutModel",
            "_view_count": null,
            "_view_module": "@jupyter-widgets/base",
            "_view_module_version": "1.2.0",
            "_view_name": "LayoutView",
            "align_content": null,
            "align_items": null,
            "align_self": null,
            "border": null,
            "bottom": null,
            "display": null,
            "flex": null,
            "flex_flow": null,
            "grid_area": null,
            "grid_auto_columns": null,
            "grid_auto_flow": null,
            "grid_auto_rows": null,
            "grid_column": null,
            "grid_gap": null,
            "grid_row": null,
            "grid_template_areas": null,
            "grid_template_columns": null,
            "grid_template_rows": null,
            "height": null,
            "justify_content": null,
            "justify_items": null,
            "left": null,
            "margin": null,
            "max_height": null,
            "max_width": null,
            "min_height": null,
            "min_width": null,
            "object_fit": null,
            "object_position": null,
            "order": null,
            "overflow": null,
            "overflow_x": null,
            "overflow_y": null,
            "padding": null,
            "right": null,
            "top": null,
            "visibility": null,
            "width": null
          }
        },
        "8f7887a92a53493faa84a81c3eb8505d": {
          "model_module": "@jupyter-widgets/base",
          "model_name": "LayoutModel",
          "state": {
            "_model_module": "@jupyter-widgets/base",
            "_model_module_version": "1.2.0",
            "_model_name": "LayoutModel",
            "_view_count": null,
            "_view_module": "@jupyter-widgets/base",
            "_view_module_version": "1.2.0",
            "_view_name": "LayoutView",
            "align_content": null,
            "align_items": null,
            "align_self": null,
            "border": null,
            "bottom": null,
            "display": null,
            "flex": null,
            "flex_flow": null,
            "grid_area": null,
            "grid_auto_columns": null,
            "grid_auto_flow": null,
            "grid_auto_rows": null,
            "grid_column": null,
            "grid_gap": null,
            "grid_row": null,
            "grid_template_areas": null,
            "grid_template_columns": null,
            "grid_template_rows": null,
            "height": null,
            "justify_content": null,
            "justify_items": null,
            "left": null,
            "margin": null,
            "max_height": null,
            "max_width": null,
            "min_height": null,
            "min_width": null,
            "object_fit": null,
            "object_position": null,
            "order": null,
            "overflow": null,
            "overflow_x": null,
            "overflow_y": null,
            "padding": null,
            "right": null,
            "top": null,
            "visibility": null,
            "width": null
          }
        },
        "50012181061d4494bb3d43405fa254e7": {
          "model_module": "@jupyter-widgets/controls",
          "model_name": "ProgressStyleModel",
          "state": {
            "_model_module": "@jupyter-widgets/controls",
            "_model_module_version": "1.5.0",
            "_model_name": "ProgressStyleModel",
            "_view_count": null,
            "_view_module": "@jupyter-widgets/base",
            "_view_module_version": "1.2.0",
            "_view_name": "StyleView",
            "bar_color": null,
            "description_width": "initial"
          }
        },
        "b68f8c9332eb41659f0fcb71c04b6452": {
          "model_module": "@jupyter-widgets/base",
          "model_name": "LayoutModel",
          "state": {
            "_model_module": "@jupyter-widgets/base",
            "_model_module_version": "1.2.0",
            "_model_name": "LayoutModel",
            "_view_count": null,
            "_view_module": "@jupyter-widgets/base",
            "_view_module_version": "1.2.0",
            "_view_name": "LayoutView",
            "align_content": null,
            "align_items": null,
            "align_self": null,
            "border": null,
            "bottom": null,
            "display": null,
            "flex": null,
            "flex_flow": null,
            "grid_area": null,
            "grid_auto_columns": null,
            "grid_auto_flow": null,
            "grid_auto_rows": null,
            "grid_column": null,
            "grid_gap": null,
            "grid_row": null,
            "grid_template_areas": null,
            "grid_template_columns": null,
            "grid_template_rows": null,
            "height": null,
            "justify_content": null,
            "justify_items": null,
            "left": null,
            "margin": null,
            "max_height": null,
            "max_width": null,
            "min_height": null,
            "min_width": null,
            "object_fit": null,
            "object_position": null,
            "order": null,
            "overflow": null,
            "overflow_x": null,
            "overflow_y": null,
            "padding": null,
            "right": null,
            "top": null,
            "visibility": null,
            "width": null
          }
        },
        "48099ec349be4727976df6d29a9d5570": {
          "model_module": "@jupyter-widgets/controls",
          "model_name": "DescriptionStyleModel",
          "state": {
            "_model_module": "@jupyter-widgets/controls",
            "_model_module_version": "1.5.0",
            "_model_name": "DescriptionStyleModel",
            "_view_count": null,
            "_view_module": "@jupyter-widgets/base",
            "_view_module_version": "1.2.0",
            "_view_name": "StyleView",
            "description_width": ""
          }
        },
        "1de80571bbfb4c84a775917dd687d78d": {
          "model_module": "@jupyter-widgets/controls",
          "model_name": "HBoxModel",
          "state": {
            "_dom_classes": [],
            "_model_module": "@jupyter-widgets/controls",
            "_model_module_version": "1.5.0",
            "_model_name": "HBoxModel",
            "_view_count": null,
            "_view_module": "@jupyter-widgets/controls",
            "_view_module_version": "1.5.0",
            "_view_name": "HBoxView",
            "box_style": "",
            "children": [
              "IPY_MODEL_b6060bc616dc45439b3cab7d2a6d9efb",
              "IPY_MODEL_271703e18f534b55a83acc548a613792"
            ],
            "layout": "IPY_MODEL_4dc67a9ab644446fa6bc54f786a5f79e"
          }
        },
        "b6060bc616dc45439b3cab7d2a6d9efb": {
          "model_module": "@jupyter-widgets/controls",
          "model_name": "FloatProgressModel",
          "state": {
            "_dom_classes": [],
            "_model_module": "@jupyter-widgets/controls",
            "_model_module_version": "1.5.0",
            "_model_name": "FloatProgressModel",
            "_view_count": null,
            "_view_module": "@jupyter-widgets/controls",
            "_view_module_version": "1.5.0",
            "_view_name": "ProgressView",
            "bar_style": "success",
            "description": "",
            "description_tooltip": null,
            "layout": "IPY_MODEL_0df73a06e94d49688d6dfe66d7e14b3f",
            "max": 26421880,
            "min": 0,
            "orientation": "horizontal",
            "style": "IPY_MODEL_0684e80aa314497da9becb83aca00028",
            "value": 26421880
          }
        },
        "271703e18f534b55a83acc548a613792": {
          "model_module": "@jupyter-widgets/controls",
          "model_name": "HTMLModel",
          "state": {
            "_dom_classes": [],
            "_model_module": "@jupyter-widgets/controls",
            "_model_module_version": "1.5.0",
            "_model_name": "HTMLModel",
            "_view_count": null,
            "_view_module": "@jupyter-widgets/controls",
            "_view_module_version": "1.5.0",
            "_view_name": "HTMLView",
            "description": "",
            "description_tooltip": null,
            "layout": "IPY_MODEL_af28a4a6287e4cee97eeceaa5c152381",
            "placeholder": "​",
            "style": "IPY_MODEL_d0960e64b5204a5f9388c2f5bd26b797",
            "value": " 26422272/? [57:31&lt;00:00, 7654.24it/s]"
          }
        },
        "4dc67a9ab644446fa6bc54f786a5f79e": {
          "model_module": "@jupyter-widgets/base",
          "model_name": "LayoutModel",
          "state": {
            "_model_module": "@jupyter-widgets/base",
            "_model_module_version": "1.2.0",
            "_model_name": "LayoutModel",
            "_view_count": null,
            "_view_module": "@jupyter-widgets/base",
            "_view_module_version": "1.2.0",
            "_view_name": "LayoutView",
            "align_content": null,
            "align_items": null,
            "align_self": null,
            "border": null,
            "bottom": null,
            "display": null,
            "flex": null,
            "flex_flow": null,
            "grid_area": null,
            "grid_auto_columns": null,
            "grid_auto_flow": null,
            "grid_auto_rows": null,
            "grid_column": null,
            "grid_gap": null,
            "grid_row": null,
            "grid_template_areas": null,
            "grid_template_columns": null,
            "grid_template_rows": null,
            "height": null,
            "justify_content": null,
            "justify_items": null,
            "left": null,
            "margin": null,
            "max_height": null,
            "max_width": null,
            "min_height": null,
            "min_width": null,
            "object_fit": null,
            "object_position": null,
            "order": null,
            "overflow": null,
            "overflow_x": null,
            "overflow_y": null,
            "padding": null,
            "right": null,
            "top": null,
            "visibility": null,
            "width": null
          }
        },
        "0df73a06e94d49688d6dfe66d7e14b3f": {
          "model_module": "@jupyter-widgets/base",
          "model_name": "LayoutModel",
          "state": {
            "_model_module": "@jupyter-widgets/base",
            "_model_module_version": "1.2.0",
            "_model_name": "LayoutModel",
            "_view_count": null,
            "_view_module": "@jupyter-widgets/base",
            "_view_module_version": "1.2.0",
            "_view_name": "LayoutView",
            "align_content": null,
            "align_items": null,
            "align_self": null,
            "border": null,
            "bottom": null,
            "display": null,
            "flex": null,
            "flex_flow": null,
            "grid_area": null,
            "grid_auto_columns": null,
            "grid_auto_flow": null,
            "grid_auto_rows": null,
            "grid_column": null,
            "grid_gap": null,
            "grid_row": null,
            "grid_template_areas": null,
            "grid_template_columns": null,
            "grid_template_rows": null,
            "height": null,
            "justify_content": null,
            "justify_items": null,
            "left": null,
            "margin": null,
            "max_height": null,
            "max_width": null,
            "min_height": null,
            "min_width": null,
            "object_fit": null,
            "object_position": null,
            "order": null,
            "overflow": null,
            "overflow_x": null,
            "overflow_y": null,
            "padding": null,
            "right": null,
            "top": null,
            "visibility": null,
            "width": null
          }
        },
        "0684e80aa314497da9becb83aca00028": {
          "model_module": "@jupyter-widgets/controls",
          "model_name": "ProgressStyleModel",
          "state": {
            "_model_module": "@jupyter-widgets/controls",
            "_model_module_version": "1.5.0",
            "_model_name": "ProgressStyleModel",
            "_view_count": null,
            "_view_module": "@jupyter-widgets/base",
            "_view_module_version": "1.2.0",
            "_view_name": "StyleView",
            "bar_color": null,
            "description_width": "initial"
          }
        },
        "af28a4a6287e4cee97eeceaa5c152381": {
          "model_module": "@jupyter-widgets/base",
          "model_name": "LayoutModel",
          "state": {
            "_model_module": "@jupyter-widgets/base",
            "_model_module_version": "1.2.0",
            "_model_name": "LayoutModel",
            "_view_count": null,
            "_view_module": "@jupyter-widgets/base",
            "_view_module_version": "1.2.0",
            "_view_name": "LayoutView",
            "align_content": null,
            "align_items": null,
            "align_self": null,
            "border": null,
            "bottom": null,
            "display": null,
            "flex": null,
            "flex_flow": null,
            "grid_area": null,
            "grid_auto_columns": null,
            "grid_auto_flow": null,
            "grid_auto_rows": null,
            "grid_column": null,
            "grid_gap": null,
            "grid_row": null,
            "grid_template_areas": null,
            "grid_template_columns": null,
            "grid_template_rows": null,
            "height": null,
            "justify_content": null,
            "justify_items": null,
            "left": null,
            "margin": null,
            "max_height": null,
            "max_width": null,
            "min_height": null,
            "min_width": null,
            "object_fit": null,
            "object_position": null,
            "order": null,
            "overflow": null,
            "overflow_x": null,
            "overflow_y": null,
            "padding": null,
            "right": null,
            "top": null,
            "visibility": null,
            "width": null
          }
        },
        "d0960e64b5204a5f9388c2f5bd26b797": {
          "model_module": "@jupyter-widgets/controls",
          "model_name": "DescriptionStyleModel",
          "state": {
            "_model_module": "@jupyter-widgets/controls",
            "_model_module_version": "1.5.0",
            "_model_name": "DescriptionStyleModel",
            "_view_count": null,
            "_view_module": "@jupyter-widgets/base",
            "_view_module_version": "1.2.0",
            "_view_name": "StyleView",
            "description_width": ""
          }
        },
        "980ff73cbdae47a4a30fa16076e7e5c9": {
          "model_module": "@jupyter-widgets/controls",
          "model_name": "HBoxModel",
          "state": {
            "_dom_classes": [],
            "_model_module": "@jupyter-widgets/controls",
            "_model_module_version": "1.5.0",
            "_model_name": "HBoxModel",
            "_view_count": null,
            "_view_module": "@jupyter-widgets/controls",
            "_view_module_version": "1.5.0",
            "_view_name": "HBoxView",
            "box_style": "",
            "children": [
              "IPY_MODEL_8fa24f3582524eeb968ca9cd98bd0983",
              "IPY_MODEL_473f5af7f0104d78a6be3cbd9517e48a"
            ],
            "layout": "IPY_MODEL_a997b105690b487f9a400d10317dc8c6"
          }
        },
        "8fa24f3582524eeb968ca9cd98bd0983": {
          "model_module": "@jupyter-widgets/controls",
          "model_name": "FloatProgressModel",
          "state": {
            "_dom_classes": [],
            "_model_module": "@jupyter-widgets/controls",
            "_model_module_version": "1.5.0",
            "_model_name": "FloatProgressModel",
            "_view_count": null,
            "_view_module": "@jupyter-widgets/controls",
            "_view_module_version": "1.5.0",
            "_view_name": "ProgressView",
            "bar_style": "success",
            "description": "",
            "description_tooltip": null,
            "layout": "IPY_MODEL_6b884afecb6c459d9dadb65304b89a0b",
            "max": 29515,
            "min": 0,
            "orientation": "horizontal",
            "style": "IPY_MODEL_1ca0639be75441439720d63d94d2ae19",
            "value": 29515
          }
        },
        "473f5af7f0104d78a6be3cbd9517e48a": {
          "model_module": "@jupyter-widgets/controls",
          "model_name": "HTMLModel",
          "state": {
            "_dom_classes": [],
            "_model_module": "@jupyter-widgets/controls",
            "_model_module_version": "1.5.0",
            "_model_name": "HTMLModel",
            "_view_count": null,
            "_view_module": "@jupyter-widgets/controls",
            "_view_module_version": "1.5.0",
            "_view_name": "HTMLView",
            "description": "",
            "description_tooltip": null,
            "layout": "IPY_MODEL_186feb1c5c34470a97e740992052226c",
            "placeholder": "​",
            "style": "IPY_MODEL_aa71f80805374ad39845d8939ec46ec4",
            "value": " 29696/? [00:02&lt;00:00, 11014.88it/s]"
          }
        },
        "a997b105690b487f9a400d10317dc8c6": {
          "model_module": "@jupyter-widgets/base",
          "model_name": "LayoutModel",
          "state": {
            "_model_module": "@jupyter-widgets/base",
            "_model_module_version": "1.2.0",
            "_model_name": "LayoutModel",
            "_view_count": null,
            "_view_module": "@jupyter-widgets/base",
            "_view_module_version": "1.2.0",
            "_view_name": "LayoutView",
            "align_content": null,
            "align_items": null,
            "align_self": null,
            "border": null,
            "bottom": null,
            "display": null,
            "flex": null,
            "flex_flow": null,
            "grid_area": null,
            "grid_auto_columns": null,
            "grid_auto_flow": null,
            "grid_auto_rows": null,
            "grid_column": null,
            "grid_gap": null,
            "grid_row": null,
            "grid_template_areas": null,
            "grid_template_columns": null,
            "grid_template_rows": null,
            "height": null,
            "justify_content": null,
            "justify_items": null,
            "left": null,
            "margin": null,
            "max_height": null,
            "max_width": null,
            "min_height": null,
            "min_width": null,
            "object_fit": null,
            "object_position": null,
            "order": null,
            "overflow": null,
            "overflow_x": null,
            "overflow_y": null,
            "padding": null,
            "right": null,
            "top": null,
            "visibility": null,
            "width": null
          }
        },
        "6b884afecb6c459d9dadb65304b89a0b": {
          "model_module": "@jupyter-widgets/base",
          "model_name": "LayoutModel",
          "state": {
            "_model_module": "@jupyter-widgets/base",
            "_model_module_version": "1.2.0",
            "_model_name": "LayoutModel",
            "_view_count": null,
            "_view_module": "@jupyter-widgets/base",
            "_view_module_version": "1.2.0",
            "_view_name": "LayoutView",
            "align_content": null,
            "align_items": null,
            "align_self": null,
            "border": null,
            "bottom": null,
            "display": null,
            "flex": null,
            "flex_flow": null,
            "grid_area": null,
            "grid_auto_columns": null,
            "grid_auto_flow": null,
            "grid_auto_rows": null,
            "grid_column": null,
            "grid_gap": null,
            "grid_row": null,
            "grid_template_areas": null,
            "grid_template_columns": null,
            "grid_template_rows": null,
            "height": null,
            "justify_content": null,
            "justify_items": null,
            "left": null,
            "margin": null,
            "max_height": null,
            "max_width": null,
            "min_height": null,
            "min_width": null,
            "object_fit": null,
            "object_position": null,
            "order": null,
            "overflow": null,
            "overflow_x": null,
            "overflow_y": null,
            "padding": null,
            "right": null,
            "top": null,
            "visibility": null,
            "width": null
          }
        },
        "1ca0639be75441439720d63d94d2ae19": {
          "model_module": "@jupyter-widgets/controls",
          "model_name": "ProgressStyleModel",
          "state": {
            "_model_module": "@jupyter-widgets/controls",
            "_model_module_version": "1.5.0",
            "_model_name": "ProgressStyleModel",
            "_view_count": null,
            "_view_module": "@jupyter-widgets/base",
            "_view_module_version": "1.2.0",
            "_view_name": "StyleView",
            "bar_color": null,
            "description_width": "initial"
          }
        },
        "186feb1c5c34470a97e740992052226c": {
          "model_module": "@jupyter-widgets/base",
          "model_name": "LayoutModel",
          "state": {
            "_model_module": "@jupyter-widgets/base",
            "_model_module_version": "1.2.0",
            "_model_name": "LayoutModel",
            "_view_count": null,
            "_view_module": "@jupyter-widgets/base",
            "_view_module_version": "1.2.0",
            "_view_name": "LayoutView",
            "align_content": null,
            "align_items": null,
            "align_self": null,
            "border": null,
            "bottom": null,
            "display": null,
            "flex": null,
            "flex_flow": null,
            "grid_area": null,
            "grid_auto_columns": null,
            "grid_auto_flow": null,
            "grid_auto_rows": null,
            "grid_column": null,
            "grid_gap": null,
            "grid_row": null,
            "grid_template_areas": null,
            "grid_template_columns": null,
            "grid_template_rows": null,
            "height": null,
            "justify_content": null,
            "justify_items": null,
            "left": null,
            "margin": null,
            "max_height": null,
            "max_width": null,
            "min_height": null,
            "min_width": null,
            "object_fit": null,
            "object_position": null,
            "order": null,
            "overflow": null,
            "overflow_x": null,
            "overflow_y": null,
            "padding": null,
            "right": null,
            "top": null,
            "visibility": null,
            "width": null
          }
        },
        "aa71f80805374ad39845d8939ec46ec4": {
          "model_module": "@jupyter-widgets/controls",
          "model_name": "DescriptionStyleModel",
          "state": {
            "_model_module": "@jupyter-widgets/controls",
            "_model_module_version": "1.5.0",
            "_model_name": "DescriptionStyleModel",
            "_view_count": null,
            "_view_module": "@jupyter-widgets/base",
            "_view_module_version": "1.2.0",
            "_view_name": "StyleView",
            "description_width": ""
          }
        },
        "33d74b208e344ca4895a75f1384f4ec7": {
          "model_module": "@jupyter-widgets/controls",
          "model_name": "HBoxModel",
          "state": {
            "_dom_classes": [],
            "_model_module": "@jupyter-widgets/controls",
            "_model_module_version": "1.5.0",
            "_model_name": "HBoxModel",
            "_view_count": null,
            "_view_module": "@jupyter-widgets/controls",
            "_view_module_version": "1.5.0",
            "_view_name": "HBoxView",
            "box_style": "",
            "children": [
              "IPY_MODEL_3d56cc825faa4501a0806fa9ee370c61",
              "IPY_MODEL_a9ab0223ae5a4134946e8f2a00a642e1"
            ],
            "layout": "IPY_MODEL_4dae331451b8464b8024ad379c52c6fe"
          }
        },
        "3d56cc825faa4501a0806fa9ee370c61": {
          "model_module": "@jupyter-widgets/controls",
          "model_name": "FloatProgressModel",
          "state": {
            "_dom_classes": [],
            "_model_module": "@jupyter-widgets/controls",
            "_model_module_version": "1.5.0",
            "_model_name": "FloatProgressModel",
            "_view_count": null,
            "_view_module": "@jupyter-widgets/controls",
            "_view_module_version": "1.5.0",
            "_view_name": "ProgressView",
            "bar_style": "success",
            "description": "",
            "description_tooltip": null,
            "layout": "IPY_MODEL_8db814b4f27f48a589d205dbeb1747b0",
            "max": 4422102,
            "min": 0,
            "orientation": "horizontal",
            "style": "IPY_MODEL_e842f90bddc142ddb8ec0e2df790d36c",
            "value": 4422102
          }
        },
        "a9ab0223ae5a4134946e8f2a00a642e1": {
          "model_module": "@jupyter-widgets/controls",
          "model_name": "HTMLModel",
          "state": {
            "_dom_classes": [],
            "_model_module": "@jupyter-widgets/controls",
            "_model_module_version": "1.5.0",
            "_model_name": "HTMLModel",
            "_view_count": null,
            "_view_module": "@jupyter-widgets/controls",
            "_view_module_version": "1.5.0",
            "_view_name": "HTMLView",
            "description": "",
            "description_tooltip": null,
            "layout": "IPY_MODEL_56afebea5b78436eb47bb70d3ecd0092",
            "placeholder": "​",
            "style": "IPY_MODEL_cd561793712b472eb9d94e300522a341",
            "value": " 4422656/? [00:01&lt;00:00, 2332226.91it/s]"
          }
        },
        "4dae331451b8464b8024ad379c52c6fe": {
          "model_module": "@jupyter-widgets/base",
          "model_name": "LayoutModel",
          "state": {
            "_model_module": "@jupyter-widgets/base",
            "_model_module_version": "1.2.0",
            "_model_name": "LayoutModel",
            "_view_count": null,
            "_view_module": "@jupyter-widgets/base",
            "_view_module_version": "1.2.0",
            "_view_name": "LayoutView",
            "align_content": null,
            "align_items": null,
            "align_self": null,
            "border": null,
            "bottom": null,
            "display": null,
            "flex": null,
            "flex_flow": null,
            "grid_area": null,
            "grid_auto_columns": null,
            "grid_auto_flow": null,
            "grid_auto_rows": null,
            "grid_column": null,
            "grid_gap": null,
            "grid_row": null,
            "grid_template_areas": null,
            "grid_template_columns": null,
            "grid_template_rows": null,
            "height": null,
            "justify_content": null,
            "justify_items": null,
            "left": null,
            "margin": null,
            "max_height": null,
            "max_width": null,
            "min_height": null,
            "min_width": null,
            "object_fit": null,
            "object_position": null,
            "order": null,
            "overflow": null,
            "overflow_x": null,
            "overflow_y": null,
            "padding": null,
            "right": null,
            "top": null,
            "visibility": null,
            "width": null
          }
        },
        "8db814b4f27f48a589d205dbeb1747b0": {
          "model_module": "@jupyter-widgets/base",
          "model_name": "LayoutModel",
          "state": {
            "_model_module": "@jupyter-widgets/base",
            "_model_module_version": "1.2.0",
            "_model_name": "LayoutModel",
            "_view_count": null,
            "_view_module": "@jupyter-widgets/base",
            "_view_module_version": "1.2.0",
            "_view_name": "LayoutView",
            "align_content": null,
            "align_items": null,
            "align_self": null,
            "border": null,
            "bottom": null,
            "display": null,
            "flex": null,
            "flex_flow": null,
            "grid_area": null,
            "grid_auto_columns": null,
            "grid_auto_flow": null,
            "grid_auto_rows": null,
            "grid_column": null,
            "grid_gap": null,
            "grid_row": null,
            "grid_template_areas": null,
            "grid_template_columns": null,
            "grid_template_rows": null,
            "height": null,
            "justify_content": null,
            "justify_items": null,
            "left": null,
            "margin": null,
            "max_height": null,
            "max_width": null,
            "min_height": null,
            "min_width": null,
            "object_fit": null,
            "object_position": null,
            "order": null,
            "overflow": null,
            "overflow_x": null,
            "overflow_y": null,
            "padding": null,
            "right": null,
            "top": null,
            "visibility": null,
            "width": null
          }
        },
        "e842f90bddc142ddb8ec0e2df790d36c": {
          "model_module": "@jupyter-widgets/controls",
          "model_name": "ProgressStyleModel",
          "state": {
            "_model_module": "@jupyter-widgets/controls",
            "_model_module_version": "1.5.0",
            "_model_name": "ProgressStyleModel",
            "_view_count": null,
            "_view_module": "@jupyter-widgets/base",
            "_view_module_version": "1.2.0",
            "_view_name": "StyleView",
            "bar_color": null,
            "description_width": "initial"
          }
        },
        "56afebea5b78436eb47bb70d3ecd0092": {
          "model_module": "@jupyter-widgets/base",
          "model_name": "LayoutModel",
          "state": {
            "_model_module": "@jupyter-widgets/base",
            "_model_module_version": "1.2.0",
            "_model_name": "LayoutModel",
            "_view_count": null,
            "_view_module": "@jupyter-widgets/base",
            "_view_module_version": "1.2.0",
            "_view_name": "LayoutView",
            "align_content": null,
            "align_items": null,
            "align_self": null,
            "border": null,
            "bottom": null,
            "display": null,
            "flex": null,
            "flex_flow": null,
            "grid_area": null,
            "grid_auto_columns": null,
            "grid_auto_flow": null,
            "grid_auto_rows": null,
            "grid_column": null,
            "grid_gap": null,
            "grid_row": null,
            "grid_template_areas": null,
            "grid_template_columns": null,
            "grid_template_rows": null,
            "height": null,
            "justify_content": null,
            "justify_items": null,
            "left": null,
            "margin": null,
            "max_height": null,
            "max_width": null,
            "min_height": null,
            "min_width": null,
            "object_fit": null,
            "object_position": null,
            "order": null,
            "overflow": null,
            "overflow_x": null,
            "overflow_y": null,
            "padding": null,
            "right": null,
            "top": null,
            "visibility": null,
            "width": null
          }
        },
        "cd561793712b472eb9d94e300522a341": {
          "model_module": "@jupyter-widgets/controls",
          "model_name": "DescriptionStyleModel",
          "state": {
            "_model_module": "@jupyter-widgets/controls",
            "_model_module_version": "1.5.0",
            "_model_name": "DescriptionStyleModel",
            "_view_count": null,
            "_view_module": "@jupyter-widgets/base",
            "_view_module_version": "1.2.0",
            "_view_name": "StyleView",
            "description_width": ""
          }
        },
        "cf5e01265c53479da30ad8ce47cf4a47": {
          "model_module": "@jupyter-widgets/controls",
          "model_name": "HBoxModel",
          "state": {
            "_dom_classes": [],
            "_model_module": "@jupyter-widgets/controls",
            "_model_module_version": "1.5.0",
            "_model_name": "HBoxModel",
            "_view_count": null,
            "_view_module": "@jupyter-widgets/controls",
            "_view_module_version": "1.5.0",
            "_view_name": "HBoxView",
            "box_style": "",
            "children": [
              "IPY_MODEL_ad1c5f438e2c422a91696c58548e5a43",
              "IPY_MODEL_f65cc411fc344b1080150f2f27f93b02"
            ],
            "layout": "IPY_MODEL_ee921f6e79e24633abc7d493286a0397"
          }
        },
        "ad1c5f438e2c422a91696c58548e5a43": {
          "model_module": "@jupyter-widgets/controls",
          "model_name": "FloatProgressModel",
          "state": {
            "_dom_classes": [],
            "_model_module": "@jupyter-widgets/controls",
            "_model_module_version": "1.5.0",
            "_model_name": "FloatProgressModel",
            "_view_count": null,
            "_view_module": "@jupyter-widgets/controls",
            "_view_module_version": "1.5.0",
            "_view_name": "ProgressView",
            "bar_style": "success",
            "description": "",
            "description_tooltip": null,
            "layout": "IPY_MODEL_cd9704dd52d142ca9e4a6ed385326f58",
            "max": 5148,
            "min": 0,
            "orientation": "horizontal",
            "style": "IPY_MODEL_f6508413551e4dc29ba06de77ed06b43",
            "value": 5148
          }
        },
        "f65cc411fc344b1080150f2f27f93b02": {
          "model_module": "@jupyter-widgets/controls",
          "model_name": "HTMLModel",
          "state": {
            "_dom_classes": [],
            "_model_module": "@jupyter-widgets/controls",
            "_model_module_version": "1.5.0",
            "_model_name": "HTMLModel",
            "_view_count": null,
            "_view_module": "@jupyter-widgets/controls",
            "_view_module_version": "1.5.0",
            "_view_name": "HTMLView",
            "description": "",
            "description_tooltip": null,
            "layout": "IPY_MODEL_1bed09efceb84693baee240411c32140",
            "placeholder": "​",
            "style": "IPY_MODEL_680845dd961c450ea0af16a9587bd560",
            "value": " 6144/? [29:12&lt;00:00,  3.51it/s]"
          }
        },
        "ee921f6e79e24633abc7d493286a0397": {
          "model_module": "@jupyter-widgets/base",
          "model_name": "LayoutModel",
          "state": {
            "_model_module": "@jupyter-widgets/base",
            "_model_module_version": "1.2.0",
            "_model_name": "LayoutModel",
            "_view_count": null,
            "_view_module": "@jupyter-widgets/base",
            "_view_module_version": "1.2.0",
            "_view_name": "LayoutView",
            "align_content": null,
            "align_items": null,
            "align_self": null,
            "border": null,
            "bottom": null,
            "display": null,
            "flex": null,
            "flex_flow": null,
            "grid_area": null,
            "grid_auto_columns": null,
            "grid_auto_flow": null,
            "grid_auto_rows": null,
            "grid_column": null,
            "grid_gap": null,
            "grid_row": null,
            "grid_template_areas": null,
            "grid_template_columns": null,
            "grid_template_rows": null,
            "height": null,
            "justify_content": null,
            "justify_items": null,
            "left": null,
            "margin": null,
            "max_height": null,
            "max_width": null,
            "min_height": null,
            "min_width": null,
            "object_fit": null,
            "object_position": null,
            "order": null,
            "overflow": null,
            "overflow_x": null,
            "overflow_y": null,
            "padding": null,
            "right": null,
            "top": null,
            "visibility": null,
            "width": null
          }
        },
        "cd9704dd52d142ca9e4a6ed385326f58": {
          "model_module": "@jupyter-widgets/base",
          "model_name": "LayoutModel",
          "state": {
            "_model_module": "@jupyter-widgets/base",
            "_model_module_version": "1.2.0",
            "_model_name": "LayoutModel",
            "_view_count": null,
            "_view_module": "@jupyter-widgets/base",
            "_view_module_version": "1.2.0",
            "_view_name": "LayoutView",
            "align_content": null,
            "align_items": null,
            "align_self": null,
            "border": null,
            "bottom": null,
            "display": null,
            "flex": null,
            "flex_flow": null,
            "grid_area": null,
            "grid_auto_columns": null,
            "grid_auto_flow": null,
            "grid_auto_rows": null,
            "grid_column": null,
            "grid_gap": null,
            "grid_row": null,
            "grid_template_areas": null,
            "grid_template_columns": null,
            "grid_template_rows": null,
            "height": null,
            "justify_content": null,
            "justify_items": null,
            "left": null,
            "margin": null,
            "max_height": null,
            "max_width": null,
            "min_height": null,
            "min_width": null,
            "object_fit": null,
            "object_position": null,
            "order": null,
            "overflow": null,
            "overflow_x": null,
            "overflow_y": null,
            "padding": null,
            "right": null,
            "top": null,
            "visibility": null,
            "width": null
          }
        },
        "f6508413551e4dc29ba06de77ed06b43": {
          "model_module": "@jupyter-widgets/controls",
          "model_name": "ProgressStyleModel",
          "state": {
            "_model_module": "@jupyter-widgets/controls",
            "_model_module_version": "1.5.0",
            "_model_name": "ProgressStyleModel",
            "_view_count": null,
            "_view_module": "@jupyter-widgets/base",
            "_view_module_version": "1.2.0",
            "_view_name": "StyleView",
            "bar_color": null,
            "description_width": "initial"
          }
        },
        "1bed09efceb84693baee240411c32140": {
          "model_module": "@jupyter-widgets/base",
          "model_name": "LayoutModel",
          "state": {
            "_model_module": "@jupyter-widgets/base",
            "_model_module_version": "1.2.0",
            "_model_name": "LayoutModel",
            "_view_count": null,
            "_view_module": "@jupyter-widgets/base",
            "_view_module_version": "1.2.0",
            "_view_name": "LayoutView",
            "align_content": null,
            "align_items": null,
            "align_self": null,
            "border": null,
            "bottom": null,
            "display": null,
            "flex": null,
            "flex_flow": null,
            "grid_area": null,
            "grid_auto_columns": null,
            "grid_auto_flow": null,
            "grid_auto_rows": null,
            "grid_column": null,
            "grid_gap": null,
            "grid_row": null,
            "grid_template_areas": null,
            "grid_template_columns": null,
            "grid_template_rows": null,
            "height": null,
            "justify_content": null,
            "justify_items": null,
            "left": null,
            "margin": null,
            "max_height": null,
            "max_width": null,
            "min_height": null,
            "min_width": null,
            "object_fit": null,
            "object_position": null,
            "order": null,
            "overflow": null,
            "overflow_x": null,
            "overflow_y": null,
            "padding": null,
            "right": null,
            "top": null,
            "visibility": null,
            "width": null
          }
        },
        "680845dd961c450ea0af16a9587bd560": {
          "model_module": "@jupyter-widgets/controls",
          "model_name": "DescriptionStyleModel",
          "state": {
            "_model_module": "@jupyter-widgets/controls",
            "_model_module_version": "1.5.0",
            "_model_name": "DescriptionStyleModel",
            "_view_count": null,
            "_view_module": "@jupyter-widgets/base",
            "_view_module_version": "1.2.0",
            "_view_name": "StyleView",
            "description_width": ""
          }
        }
      }
    }
  },
  "cells": [
    {
      "cell_type": "markdown",
      "metadata": {
        "id": "9wIx_2FWSoSS"
      },
      "source": [
        "کد مربوطه به مقاله ارسالی با عنوان:\n",
        "\n",
        "### ترکیب روش آسیب مغزی بهینه و منظم‌سازی تُنُک ‌ در کوچک‌سازی یک مدل یادگیری عمیق برای شناسایی کووید۱۹\n",
        "\n",
        "به لحاظ ماهیت تصادفی مقداردهی اولیه‌ی وزنهای شبکه‌های عصبی و روال آموزش شبکه، اختلافات جزیی در اجراهای مختلف وجود دارد.\n",
        "\n",
        "M. Amintoosi, m.amintoosi at gmail.com"
      ]
    },
    {
      "cell_type": "code",
      "metadata": {
        "id": "Le-zhQ_OnJgO"
      },
      "source": [
        "import torch\n",
        "torch.manual_seed(1)\n",
        "import random\n",
        "random.seed(1)"
      ],
      "execution_count": null,
      "outputs": []
    },
    {
      "cell_type": "code",
      "metadata": {
        "colab": {
          "base_uri": "https://localhost:8080/"
        },
        "id": "_Qb9lPE3_yGS",
        "outputId": "b8045cba-681d-4b43-e3e8-81a88db9e42f"
      },
      "source": [
        "# %cd ..\n",
        "# !mkdir data\n",
        "# !git clone https://github.com/fyu/lsun.git"
      ],
      "execution_count": null,
      "outputs": [
        {
          "output_type": "stream",
          "text": [
            "/content\n"
          ],
          "name": "stdout"
        }
      ]
    },
    {
      "cell_type": "code",
      "metadata": {
        "colab": {
          "base_uri": "https://localhost:8080/"
        },
        "id": "LWBIyG8E_3H0",
        "outputId": "f460c51e-38b7-46f3-d1c9-f68066f66476"
      },
      "source": [
        "# %cd lsun/"
      ],
      "execution_count": null,
      "outputs": [
        {
          "output_type": "stream",
          "text": [
            "/content/lsun\n"
          ],
          "name": "stdout"
        }
      ]
    },
    {
      "cell_type": "code",
      "metadata": {
        "colab": {
          "base_uri": "https://localhost:8080/"
        },
        "id": "GhFrV6qM_8b3",
        "outputId": "82af02d9-edc4-46a4-f640-55c3a944698e"
      },
      "source": [
        "# %run download.py -c bedroom\n",
        "#-o '/content/data/'"
      ],
      "execution_count": null,
      "outputs": [
        {
          "output_type": "stream",
          "text": [
            "Downloading bedroom train set\n"
          ],
          "name": "stdout"
        }
      ]
    },
    {
      "cell_type": "code",
      "metadata": {
        "colab": {
          "base_uri": "https://localhost:8080/"
        },
        "id": "dEOX5n_zAN7o",
        "outputId": "d1a13845-942b-4832-ac43-12c0dcc59bd6"
      },
      "source": [
        "# !ls -s /content/data\n",
        "# !ls"
      ],
      "execution_count": null,
      "outputs": [
        {
          "output_type": "stream",
          "text": [
            "total 10733312\n",
            "10733312 bedroom_train_lmdb.zip\n"
          ],
          "name": "stdout"
        }
      ]
    },
    {
      "cell_type": "code",
      "metadata": {
        "colab": {
          "base_uri": "https://localhost:8080/"
        },
        "id": "JafVLkRaN28-",
        "outputId": "e7a45c01-c079-4611-f127-075fc48699d8"
      },
      "source": [
        "%cd ..\n",
        "!rm -r CNN-Pruning"
      ],
      "execution_count": null,
      "outputs": [
        {
          "output_type": "stream",
          "text": [
            "/content\n"
          ],
          "name": "stdout"
        }
      ]
    },
    {
      "cell_type": "code",
      "metadata": {
        "colab": {
          "base_uri": "https://localhost:8080/"
        },
        "id": "i5czjq6_8lAK",
        "outputId": "0b330b47-d575-4112-c053-4347c5d12409"
      },
      "source": [
        "!git clone https://github.com/mamintoosi/CNN-Pruning"
      ],
      "execution_count": null,
      "outputs": [
        {
          "output_type": "stream",
          "text": [
            "Cloning into 'CNN-Pruning'...\n",
            "remote: Enumerating objects: 70, done.\u001b[K\n",
            "remote: Counting objects: 100% (70/70), done.\u001b[K\n",
            "remote: Compressing objects: 100% (46/46), done.\u001b[K\n",
            "remote: Total 70 (delta 38), reused 54 (delta 22), pack-reused 0\u001b[K\n",
            "Unpacking objects: 100% (70/70), done.\n"
          ],
          "name": "stdout"
        }
      ]
    },
    {
      "cell_type": "code",
      "metadata": {
        "colab": {
          "base_uri": "https://localhost:8080/"
        },
        "id": "Qeiu88GAdjh0",
        "outputId": "d47af11d-8ab3-48a1-f1f6-d236065dfea2"
      },
      "source": [
        "%cd CNN-Pruning"
      ],
      "execution_count": null,
      "outputs": [
        {
          "output_type": "stream",
          "text": [
            "/content/CNN-Pruning\n"
          ],
          "name": "stdout"
        }
      ]
    },
    {
      "cell_type": "code",
      "metadata": {
        "colab": {
          "base_uri": "https://localhost:8080/",
          "height": 1000,
          "referenced_widgets": [
            "150912e723924e9ba8aee11a28e36e43",
            "077a1b3d63b14b24b0e5fca8724a6c56",
            "104613dd058645269e2630d7b29ae8c6",
            "550dba50d86a43d9bc0584fff718fab5",
            "8f7887a92a53493faa84a81c3eb8505d",
            "50012181061d4494bb3d43405fa254e7",
            "b68f8c9332eb41659f0fcb71c04b6452",
            "48099ec349be4727976df6d29a9d5570",
            "1de80571bbfb4c84a775917dd687d78d",
            "b6060bc616dc45439b3cab7d2a6d9efb",
            "271703e18f534b55a83acc548a613792",
            "4dc67a9ab644446fa6bc54f786a5f79e",
            "0df73a06e94d49688d6dfe66d7e14b3f",
            "0684e80aa314497da9becb83aca00028",
            "af28a4a6287e4cee97eeceaa5c152381",
            "d0960e64b5204a5f9388c2f5bd26b797",
            "980ff73cbdae47a4a30fa16076e7e5c9",
            "8fa24f3582524eeb968ca9cd98bd0983",
            "473f5af7f0104d78a6be3cbd9517e48a",
            "a997b105690b487f9a400d10317dc8c6",
            "6b884afecb6c459d9dadb65304b89a0b",
            "1ca0639be75441439720d63d94d2ae19",
            "186feb1c5c34470a97e740992052226c",
            "aa71f80805374ad39845d8939ec46ec4",
            "33d74b208e344ca4895a75f1384f4ec7",
            "3d56cc825faa4501a0806fa9ee370c61",
            "a9ab0223ae5a4134946e8f2a00a642e1",
            "4dae331451b8464b8024ad379c52c6fe",
            "8db814b4f27f48a589d205dbeb1747b0",
            "e842f90bddc142ddb8ec0e2df790d36c",
            "56afebea5b78436eb47bb70d3ecd0092",
            "cd561793712b472eb9d94e300522a341",
            "cf5e01265c53479da30ad8ce47cf4a47",
            "ad1c5f438e2c422a91696c58548e5a43",
            "f65cc411fc344b1080150f2f27f93b02",
            "ee921f6e79e24633abc7d493286a0397",
            "cd9704dd52d142ca9e4a6ed385326f58",
            "f6508413551e4dc29ba06de77ed06b43",
            "1bed09efceb84693baee240411c32140",
            "680845dd961c450ea0af16a9587bd560"
          ]
        },
        "id": "MD6uIT2naQti",
        "outputId": "5ac8fb36-4630-4305-d486-f1e4d5f60809"
      },
      "source": [
        "%%time\n",
        "# Transfer Learning: Train the VGG16 model\n",
        "torch.manual_seed(1)\n",
        "random.seed(1)\n",
        "# Download a pre-trained VGG16 model and train it\n",
        "%run finetune_SpReg_pds.py --train --use-cuda \\\n",
        "  --train_epoch 20 --ds_name 'FashionMNIST' \\\n",
        "  --output_model 'vgg_fm'"
      ],
      "execution_count": null,
      "outputs": [
        {
          "output_type": "stream",
          "text": [
            "Downloading: \"https://download.pytorch.org/models/vgg16-397923af.pth\" to /root/.cache/torch/hub/checkpoints/vgg16-397923af.pth\n"
          ],
          "name": "stderr"
        },
        {
          "output_type": "display_data",
          "data": {
            "application/vnd.jupyter.widget-view+json": {
              "model_id": "150912e723924e9ba8aee11a28e36e43",
              "version_major": 2,
              "version_minor": 0
            },
            "text/plain": [
              "HBox(children=(FloatProgress(value=0.0, max=553433881.0), HTML(value='')))"
            ]
          },
          "metadata": {
            "tags": []
          }
        },
        {
          "output_type": "stream",
          "text": [
            "\n",
            "Using CUDA...\n",
            "Downloading http://fashion-mnist.s3-website.eu-central-1.amazonaws.com/train-images-idx3-ubyte.gz\n",
            "Downloading http://fashion-mnist.s3-website.eu-central-1.amazonaws.com/train-images-idx3-ubyte.gz to /content/data/FashionMNIST/raw/train-images-idx3-ubyte.gz\n"
          ],
          "name": "stdout"
        },
        {
          "output_type": "display_data",
          "data": {
            "application/vnd.jupyter.widget-view+json": {
              "model_id": "1de80571bbfb4c84a775917dd687d78d",
              "version_major": 2,
              "version_minor": 0
            },
            "text/plain": [
              "HBox(children=(FloatProgress(value=0.0, max=26421880.0), HTML(value='')))"
            ]
          },
          "metadata": {
            "tags": []
          }
        },
        {
          "output_type": "stream",
          "text": [
            "\n",
            "Extracting /content/data/FashionMNIST/raw/train-images-idx3-ubyte.gz to /content/data/FashionMNIST/raw\n",
            "\n",
            "Downloading http://fashion-mnist.s3-website.eu-central-1.amazonaws.com/train-labels-idx1-ubyte.gz\n",
            "Downloading http://fashion-mnist.s3-website.eu-central-1.amazonaws.com/train-labels-idx1-ubyte.gz to /content/data/FashionMNIST/raw/train-labels-idx1-ubyte.gz\n"
          ],
          "name": "stdout"
        },
        {
          "output_type": "display_data",
          "data": {
            "application/vnd.jupyter.widget-view+json": {
              "model_id": "980ff73cbdae47a4a30fa16076e7e5c9",
              "version_major": 2,
              "version_minor": 0
            },
            "text/plain": [
              "HBox(children=(FloatProgress(value=0.0, max=29515.0), HTML(value='')))"
            ]
          },
          "metadata": {
            "tags": []
          }
        },
        {
          "output_type": "stream",
          "text": [
            "\n",
            "Extracting /content/data/FashionMNIST/raw/train-labels-idx1-ubyte.gz to /content/data/FashionMNIST/raw\n",
            "\n",
            "Downloading http://fashion-mnist.s3-website.eu-central-1.amazonaws.com/t10k-images-idx3-ubyte.gz\n",
            "Downloading http://fashion-mnist.s3-website.eu-central-1.amazonaws.com/t10k-images-idx3-ubyte.gz to /content/data/FashionMNIST/raw/t10k-images-idx3-ubyte.gz\n"
          ],
          "name": "stdout"
        },
        {
          "output_type": "display_data",
          "data": {
            "application/vnd.jupyter.widget-view+json": {
              "model_id": "33d74b208e344ca4895a75f1384f4ec7",
              "version_major": 2,
              "version_minor": 0
            },
            "text/plain": [
              "HBox(children=(FloatProgress(value=0.0, max=4422102.0), HTML(value='')))"
            ]
          },
          "metadata": {
            "tags": []
          }
        },
        {
          "output_type": "stream",
          "text": [
            "\n",
            "Extracting /content/data/FashionMNIST/raw/t10k-images-idx3-ubyte.gz to /content/data/FashionMNIST/raw\n",
            "\n",
            "Downloading http://fashion-mnist.s3-website.eu-central-1.amazonaws.com/t10k-labels-idx1-ubyte.gz\n",
            "Downloading http://fashion-mnist.s3-website.eu-central-1.amazonaws.com/t10k-labels-idx1-ubyte.gz to /content/data/FashionMNIST/raw/t10k-labels-idx1-ubyte.gz\n"
          ],
          "name": "stdout"
        },
        {
          "output_type": "display_data",
          "data": {
            "application/vnd.jupyter.widget-view+json": {
              "model_id": "cf5e01265c53479da30ad8ce47cf4a47",
              "version_major": 2,
              "version_minor": 0
            },
            "text/plain": [
              "HBox(children=(FloatProgress(value=0.0, max=5148.0), HTML(value='')))"
            ]
          },
          "metadata": {
            "tags": []
          }
        },
        {
          "output_type": "stream",
          "text": [
            "\n",
            "Extracting /content/data/FashionMNIST/raw/t10k-labels-idx1-ubyte.gz to /content/data/FashionMNIST/raw\n",
            "\n",
            "Processing...\n",
            "Done!\n",
            "Epoch:  1 / 20\n"
          ],
          "name": "stdout"
        },
        {
          "output_type": "stream",
          "text": [
            "/usr/local/lib/python3.7/dist-packages/torchvision/datasets/mnist.py:502: UserWarning: The given NumPy array is not writeable, and PyTorch does not support non-writeable tensors. This means you can write to the underlying (supposedly non-writeable) NumPy array using the tensor. You may want to copy the array to protect its data or make it writeable before converting it to a tensor. This type of warning will be suppressed for the rest of this program. (Triggered internally at  /pytorch/torch/csrc/utils/tensor_numpy.cpp:143.)\n",
            "  return torch.from_numpy(parsed.astype(m[2], copy=False)).view(*s)\n"
          ],
          "name": "stderr"
        },
        {
          "output_type": "stream",
          "text": [
            "Accuracy : 0.871\n",
            "Epoch:  2 / 20\n",
            "Accuracy : 0.885\n",
            "Epoch:  3 / 20\n",
            "Accuracy : 0.87\n",
            "Epoch:  4 / 20\n",
            "Accuracy : 0.889\n",
            "Epoch:  5 / 20\n",
            "Accuracy : 0.898\n",
            "Epoch:  6 / 20\n",
            "Accuracy : 0.879\n",
            "Epoch:  7 / 20\n",
            "Accuracy : 0.887\n",
            "Epoch:  8 / 20\n",
            "Accuracy : 0.887\n",
            "Epoch:  9 / 20\n",
            "Accuracy : 0.871\n",
            "Epoch:  10 / 20\n",
            "Accuracy : 0.898\n",
            "Epoch:  11 / 20\n",
            "Accuracy : 0.9\n",
            "Epoch:  12 / 20\n",
            "Accuracy : 0.892\n",
            "Epoch:  13 / 20\n",
            "Accuracy : 0.898\n",
            "Epoch:  14 / 20\n",
            "Accuracy : 0.892\n",
            "Epoch:  15 / 20\n",
            "Accuracy : 0.899\n",
            "Epoch:  16 / 20\n",
            "Accuracy : 0.894\n",
            "Epoch:  17 / 20\n",
            "Accuracy : 0.901\n",
            "Epoch:  18 / 20\n",
            "Accuracy : 0.904\n",
            "Epoch:  19 / 20\n",
            "Accuracy : 0.895\n",
            "Epoch:  20 / 20\n",
            "Accuracy : 0.898\n",
            "Finished fine tuning.\n",
            "CPU times: user 13min, sys: 25.6 s, total: 13min 26s\n",
            "Wall time: 13min 55s\n"
          ],
          "name": "stdout"
        }
      ]
    },
    {
      "cell_type": "code",
      "metadata": {
        "colab": {
          "base_uri": "https://localhost:8080/"
        },
        "id": "KyR2e1zIJjZQ",
        "outputId": "3568bf24-990d-4ac4-a4f7-d4e9785b8b68"
      },
      "source": [
        "%%time\n",
        "# Transfer Learning: Train the VGG16 model\n",
        "torch.manual_seed(1)\n",
        "random.seed(1)\n",
        "# Download a pre-trained VGG16 model and train it\n",
        "%run finetune_SpReg_pds.py --train --use-cuda \\\n",
        "  --train_epoch 11 --ds_name 'FashionMNIST' \\\n",
        "  --output_model 'vgg_fm'"
      ],
      "execution_count": null,
      "outputs": [
        {
          "output_type": "stream",
          "text": [
            "Using CUDA...\n",
            "Epoch:  1 / 11\n",
            "Accuracy : 0.871\n",
            "Epoch:  2 / 11\n",
            "Accuracy : 0.885\n",
            "Epoch:  3 / 11\n",
            "Accuracy : 0.87\n",
            "Epoch:  4 / 11\n",
            "Accuracy : 0.889\n",
            "Epoch:  5 / 11\n",
            "Accuracy : 0.898\n",
            "Epoch:  6 / 11\n",
            "Accuracy : 0.879\n",
            "Epoch:  7 / 11\n",
            "Accuracy : 0.887\n",
            "Epoch:  8 / 11\n",
            "Accuracy : 0.887\n",
            "Epoch:  9 / 11\n",
            "Accuracy : 0.871\n",
            "Epoch:  10 / 11\n",
            "Accuracy : 0.898\n",
            "Epoch:  11 / 11\n",
            "Accuracy : 0.9\n",
            "Finished fine tuning.\n",
            "CPU times: user 7min 6s, sys: 12.7 s, total: 7min 19s\n",
            "Wall time: 7min 28s\n"
          ],
          "name": "stdout"
        }
      ]
    },
    {
      "cell_type": "code",
      "metadata": {
        "id": "pZFNpspZYXuP"
      },
      "source": [
        "# %%time\n",
        "# # Transfer Learning: Train the VGG16 model\n",
        "# torch.manual_seed(1)\n",
        "# random.seed(1)\n",
        "# # Download a pre-trained VGG16 model and train it\n",
        "# %run finetune_SpReg_cifar.py --train --use-cuda \\\n",
        "#   --train_epoch 10 --ds_name 'STL10' \\\n",
        "#   --output_model 'vgg_stl10'"
      ],
      "execution_count": null,
      "outputs": []
    },
    {
      "cell_type": "code",
      "metadata": {
        "id": "MWJu4sy5YW_d"
      },
      "source": [
        "# %%time\n",
        "# Test the transfer learning model\n",
        "# %run finetune_SpReg_cifar.py --test --ds_name 'cifar10' \\\n",
        "  # --input_model 'vgg_cifar10'"
      ],
      "execution_count": null,
      "outputs": []
    },
    {
      "cell_type": "code",
      "metadata": {
        "colab": {
          "background_save": true,
          "base_uri": "https://localhost:8080/"
        },
        "id": "gnCnYpvKvPXE",
        "outputId": "57d541ea-ca48-4bcc-8fce-dd765a23af35"
      },
      "source": [
        "%%time\n",
        "# Pruning the trained model using HSQGL12 method\n",
        "torch.manual_seed(1)\n",
        "random.seed(1)\n",
        "%run finetune_SpReg_pds.py --prune --use-cuda --train_epoch 10 --reg_name 'HSQGL12' --ds_name 'FashionMNIST' \\\n",
        "  --input_model 'vgg_fm' --output_model 'vgg_HSQGL12'"
      ],
      "execution_count": null,
      "outputs": [
        {
          "output_type": "stream",
          "text": [
            "Using CUDA...\n",
            "Using Regularization:  HSQGL12\n",
            "Accuracy : 0.9\n",
            "Retraining with regularization ... \n",
            "Epoch:  1 / 10\n",
            "Accuracy : 0.885\n",
            "Epoch:  2 / 10\n",
            "Accuracy : 0.884\n",
            "Epoch:  3 / 10\n",
            "Accuracy : 0.898\n",
            "Epoch:  4 / 10\n",
            "Accuracy : 0.86\n",
            "Epoch:  5 / 10\n",
            "Accuracy : 0.905\n",
            "Epoch:  6 / 10\n",
            "Accuracy : 0.914\n",
            "Epoch:  7 / 10\n",
            "Accuracy : 0.901\n",
            "Epoch:  8 / 10\n",
            "Accuracy : 0.897\n",
            "Epoch:  9 / 10\n",
            "Accuracy : 0.907\n",
            "Epoch:  10 / 10\n",
            "Accuracy : 0.907\n",
            "Finished fine tuning.\n",
            "CPU times: user 15min 45s, sys: 11.6 s, total: 15min 57s\n",
            "Wall time: 16min 4s\n"
          ],
          "name": "stdout"
        }
      ]
    },
    {
      "cell_type": "code",
      "metadata": {
        "colab": {
          "background_save": true,
          "base_uri": "https://localhost:8080/"
        },
        "id": "Mti_ExXF4DbP",
        "outputId": "59681367-12a1-4f2e-d4d3-b437378fd29c"
      },
      "source": [
        "!ls -as models"
      ],
      "execution_count": null,
      "outputs": [
        {
          "output_type": "stream",
          "text": [
            "total 1049288\n",
            "     4 .        0 for_models.txt  524640 vgg_HSQGL12.pt\n",
            "     4 ..  524640 vgg_fm.pt\n"
          ],
          "name": "stdout"
        }
      ]
    },
    {
      "cell_type": "code",
      "metadata": {
        "colab": {
          "background_save": true
        },
        "id": "SmpAK4Rkw5d9"
      },
      "source": [
        "# %%time\n",
        "# # Test the model with regularization\n",
        "# %run finetune_SpReg.py --test --ds_name 'COVID-Radiography' \\\n",
        "#   --train_path 'data/COVID-Radiography/train' --test_path 'data/COVID-Radiography/test'\\\n",
        "#   --input_model 'vgg_HSQGL12'"
      ],
      "execution_count": null,
      "outputs": []
    },
    {
      "cell_type": "code",
      "metadata": {
        "colab": {
          "base_uri": "https://localhost:8080/"
        },
        "id": "MAhrCTM_q_w7",
        "outputId": "e0283f8e-f0e5-4d5f-b8ad-ef70faaf60f7"
      },
      "source": [
        "# Pruning the trained model using OBD method\n",
        "%%time\n",
        "torch.manual_seed(1)\n",
        "random.seed(1)\n",
        "%run finetune_SpReg_pds.py --prune --use-cuda --ds_name 'FashionMNIST' \\\n",
        "  --input_model 'vgg_fm' --output_model 'vgg_OBD' \\\n",
        "  --eat 4"
      ],
      "execution_count": 20,
      "outputs": [
        {
          "output_type": "stream",
          "text": [
            "Using CUDA...\n",
            "Accuracy : 0.9\n",
            "5\n",
            "Number of prunning iterations to reduce 70% filters 5\n",
            "Iter:  1 / 5\n",
            "Ranking filters.. \n",
            "Layers that will be prunned {17: 94, 10: 20, 28: 66, 21: 62, 19: 71, 24: 66, 14: 28, 12: 29, 26: 58, 2: 2, 0: 5, 7: 7, 5: 4}\n",
            "Prunning filters.. \n",
            "Filters prunned 12.121212121212125%\n",
            "Accuracy : 0.885\n",
            "Fine tuning to recover from prunning iteration.\n",
            "Epoch:  1 / 4\n",
            "Accuracy : 0.875\n",
            "Epoch:  2 / 4\n",
            "Accuracy : 0.896\n",
            "Epoch:  3 / 4\n",
            "Accuracy : 0.894\n",
            "Epoch:  4 / 4\n",
            "Accuracy : 0.903\n",
            "Finished fine tuning.\n",
            "Iter:  2 / 5\n",
            "Ranking filters.. \n",
            "Layers that will be prunned {28: 64, 12: 32, 21: 76, 14: 36, 17: 68, 19: 68, 26: 57, 24: 63, 10: 27, 7: 13, 2: 7, 5: 1}\n",
            "Prunning filters.. \n",
            "Filters prunned 24.24242424242425%\n",
            "Accuracy : 0.892\n",
            "Fine tuning to recover from prunning iteration.\n",
            "Epoch:  1 / 4\n",
            "Accuracy : 0.902\n",
            "Epoch:  2 / 4\n",
            "Accuracy : 0.89\n",
            "Epoch:  3 / 4\n",
            "Accuracy : 0.887\n",
            "Epoch:  4 / 4\n",
            "Accuracy : 0.909\n",
            "Finished fine tuning.\n",
            "Iter:  3 / 5\n",
            "Ranking filters.. \n",
            "Layers that will be prunned {28: 79, 12: 30, 26: 62, 21: 70, 10: 27, 0: 7, 14: 30, 17: 51, 5: 10, 19: 73, 24: 52, 7: 14, 2: 7}\n",
            "Prunning filters.. \n",
            "Filters prunned 36.36363636363637%\n",
            "Accuracy : 0.9\n",
            "Fine tuning to recover from prunning iteration.\n",
            "Epoch:  1 / 4\n",
            "Accuracy : 0.904\n",
            "Epoch:  2 / 4\n",
            "Accuracy : 0.916\n",
            "Epoch:  3 / 4\n",
            "Accuracy : 0.908\n",
            "Epoch:  4 / 4\n",
            "Accuracy : 0.899\n",
            "Finished fine tuning.\n",
            "Iter:  4 / 5\n",
            "Ranking filters.. \n",
            "Layers that will be prunned {26: 61, 24: 71, 28: 52, 21: 76, 19: 63, 10: 26, 12: 32, 7: 13, 14: 30, 17: 55, 0: 7, 2: 11, 5: 15}\n",
            "Prunning filters.. \n",
            "Filters prunned 48.484848484848484%\n",
            "Accuracy : 0.866\n",
            "Fine tuning to recover from prunning iteration.\n",
            "Epoch:  1 / 4\n",
            "Accuracy : 0.91\n",
            "Epoch:  2 / 4\n",
            "Accuracy : 0.886\n",
            "Epoch:  3 / 4\n",
            "Accuracy : 0.912\n",
            "Epoch:  4 / 4\n",
            "Accuracy : 0.905\n",
            "Finished fine tuning.\n",
            "Iter:  5 / 5\n",
            "Ranking filters.. \n",
            "Layers that will be prunned {14: 24, 28: 78, 10: 29, 17: 70, 5: 18, 24: 66, 21: 55, 12: 23, 26: 62, 19: 60, 2: 5, 7: 18, 0: 4}\n",
            "Prunning filters.. \n",
            "Filters prunned 60.60606060606061%\n",
            "Accuracy : 0.834\n",
            "Fine tuning to recover from prunning iteration.\n",
            "Epoch:  1 / 4\n",
            "Accuracy : 0.903\n",
            "Epoch:  2 / 4\n",
            "Accuracy : 0.909\n",
            "Epoch:  3 / 4\n",
            "Accuracy : 0.91\n",
            "Epoch:  4 / 4\n",
            "Accuracy : 0.899\n",
            "Finished fine tuning.\n",
            "CPU times: user 35min 14s, sys: 38.1 s, total: 35min 52s\n",
            "Wall time: 36min 16s\n"
          ],
          "name": "stdout"
        }
      ]
    },
    {
      "cell_type": "code",
      "metadata": {
        "colab": {
          "background_save": true
        },
        "id": "eWjAEMSCbiqi"
      },
      "source": [
        ""
      ],
      "execution_count": null,
      "outputs": []
    },
    {
      "cell_type": "code",
      "metadata": {
        "colab": {
          "background_save": true
        },
        "id": "28UKKFY6bkUv"
      },
      "source": [
        ""
      ],
      "execution_count": null,
      "outputs": []
    },
    {
      "cell_type": "code",
      "metadata": {
        "colab": {
          "background_save": true
        },
        "id": "d25r-2M5CBUa"
      },
      "source": [
        "# %%time\n",
        "# # Test the pruned model using OBD method\n",
        "# %run finetune_SpReg.py --test --ds_name 'COVID-Radiography' \\\n",
        "#   --train_path 'data/COVID-Radiography/train' --test_path 'data/COVID-Radiography/test'\\\n",
        "#   --input_model 'vgg_OBD'"
      ],
      "execution_count": null,
      "outputs": []
    },
    {
      "cell_type": "code",
      "metadata": {
        "colab": {
          "base_uri": "https://localhost:8080/"
        },
        "id": "HZeSjCPUISE_",
        "outputId": "c42e45d9-9c28-41fc-fa4d-9a5a01904aed"
      },
      "source": [
        "%%time\n",
        "# Train HSQGL12_OBD\n",
        "torch.manual_seed(1)\n",
        "random.seed(1)\n",
        "%run finetune_SpReg_pds.py --prune --use-cuda --ds_name 'FashionMNIST' \\\n",
        "  --input_model 'vgg_HSQGL12' --output_model 'vgg_HSQGL12_OBD' \\\n",
        "  --eat 4\n",
        "  # eat =3,5 was worst than HSQGL"
      ],
      "execution_count": 14,
      "outputs": [
        {
          "output_type": "stream",
          "text": [
            "Using CUDA...\n",
            "Accuracy : 0.907\n",
            "5\n",
            "Number of prunning iterations to reduce 70% filters 5\n",
            "Iter:  1 / 5\n",
            "Ranking filters.. \n",
            "Layers that will be prunned {12: 41, 28: 49, 21: 100, 19: 80, 17: 54, 10: 22, 14: 35, 7: 15, 24: 49, 26: 56, 0: 1, 2: 6, 5: 4}\n",
            "Prunning filters.. \n",
            "Filters prunned 12.121212121212125%\n",
            "Accuracy : 0.903\n",
            "Fine tuning to recover from prunning iteration.\n",
            "Epoch:  1 / 4\n",
            "Accuracy : 0.903\n",
            "Epoch:  2 / 4\n",
            "Accuracy : 0.884\n",
            "Epoch:  3 / 4\n",
            "Accuracy : 0.895\n",
            "Epoch:  4 / 4\n",
            "Accuracy : 0.915\n",
            "Finished fine tuning.\n",
            "Iter:  2 / 5\n",
            "Ranking filters.. \n",
            "Layers that will be prunned {24: 65, 26: 51, 17: 66, 21: 84, 28: 55, 7: 12, 5: 7, 0: 7, 10: 26, 19: 60, 12: 37, 2: 17, 14: 25}\n",
            "Prunning filters.. \n",
            "Filters prunned 24.24242424242425%\n",
            "Accuracy : 0.909\n",
            "Fine tuning to recover from prunning iteration.\n",
            "Epoch:  1 / 4\n",
            "Accuracy : 0.9\n",
            "Epoch:  2 / 4\n",
            "Accuracy : 0.912\n",
            "Epoch:  3 / 4\n",
            "Accuracy : 0.892\n",
            "Epoch:  4 / 4\n",
            "Accuracy : 0.917\n",
            "Finished fine tuning.\n",
            "Iter:  3 / 5\n",
            "Ranking filters.. \n",
            "Layers that will be prunned {28: 71, 26: 73, 24: 66, 17: 67, 21: 47, 14: 28, 19: 51, 10: 40, 0: 14, 2: 11, 5: 9, 7: 18, 12: 17}\n",
            "Prunning filters.. \n",
            "Filters prunned 36.36363636363637%\n",
            "Accuracy : 0.881\n",
            "Fine tuning to recover from prunning iteration.\n",
            "Epoch:  1 / 4\n",
            "Accuracy : 0.865\n",
            "Epoch:  2 / 4\n",
            "Accuracy : 0.89\n",
            "Epoch:  3 / 4\n",
            "Accuracy : 0.907\n",
            "Epoch:  4 / 4\n",
            "Accuracy : 0.905\n",
            "Finished fine tuning.\n",
            "Iter:  4 / 5\n",
            "Ranking filters.. \n",
            "Layers that will be prunned {28: 83, 24: 80, 14: 23, 26: 60, 19: 59, 7: 9, 5: 18, 17: 67, 10: 29, 21: 51, 12: 26, 2: 5, 0: 2}\n",
            "Prunning filters.. \n",
            "Filters prunned 48.484848484848484%\n",
            "Accuracy : 0.87\n",
            "Fine tuning to recover from prunning iteration.\n",
            "Epoch:  1 / 4\n",
            "Accuracy : 0.912\n",
            "Epoch:  2 / 4\n",
            "Accuracy : 0.914\n",
            "Epoch:  3 / 4\n",
            "Accuracy : 0.906\n",
            "Epoch:  4 / 4\n",
            "Accuracy : 0.908\n",
            "Finished fine tuning.\n",
            "Iter:  5 / 5\n",
            "Ranking filters.. \n",
            "Layers that will be prunned {17: 81, 28: 61, 19: 84, 26: 74, 10: 28, 12: 27, 24: 46, 21: 52, 5: 20, 14: 28, 0: 5, 7: 4, 2: 2}\n",
            "Prunning filters.. \n",
            "Filters prunned 60.60606060606061%\n",
            "Accuracy : 0.846\n",
            "Fine tuning to recover from prunning iteration.\n",
            "Epoch:  1 / 4\n",
            "Accuracy : 0.911\n",
            "Epoch:  2 / 4\n",
            "Accuracy : 0.912\n",
            "Epoch:  3 / 4\n",
            "Accuracy : 0.917\n",
            "Epoch:  4 / 4\n",
            "Accuracy : 0.901\n",
            "Finished fine tuning.\n",
            "CPU times: user 32min 53s, sys: 35.2 s, total: 33min 28s\n",
            "Wall time: 33min 53s\n"
          ],
          "name": "stdout"
        }
      ]
    },
    {
      "cell_type": "code",
      "metadata": {
        "id": "I-3XDSXdI3mW"
      },
      "source": [
        "# %%time\n",
        "# # Test the HSQGL12_OBD model \n",
        "# %run finetune_SpReg_pdb.py --test --ds_name 'STL10' \\\n",
        "#   --input_model 'vgg_HSQGL12_OBD'"
      ],
      "execution_count": 15,
      "outputs": []
    },
    {
      "cell_type": "code",
      "metadata": {
        "id": "o944JwceRK5Z",
        "colab": {
          "base_uri": "https://localhost:8080/"
        },
        "outputId": "73dc0fb7-9a75-42e0-ce91-16550cd9ee71"
      },
      "source": [
        "# Print Model Sizes\n",
        "%ls -s models"
      ],
      "execution_count": 16,
      "outputs": [
        {
          "output_type": "stream",
          "text": [
            "total 1274764\n",
            "     0 for_models.txt  225484 vgg_HSQGL12_OBD.pt\n",
            "524640 vgg_fm.pt       524640 vgg_HSQGL12.pt\n"
          ],
          "name": "stdout"
        }
      ]
    },
    {
      "cell_type": "code",
      "metadata": {
        "id": "2NrYHFi9N1KG"
      },
      "source": [
        ""
      ],
      "execution_count": 16,
      "outputs": []
    },
    {
      "cell_type": "code",
      "metadata": {
        "id": "lcm4NwKfaibA"
      },
      "source": [
        "# import seaborn as sns\n",
        "# map_layer_nums = {0:1,2:2,5:3,7:4,10:5,12:6,14:7,17:8,19:9,21:10,24:11,26:12,28:13}\n",
        "# # OBD filters pruned\n",
        "# from collections import Counter\n",
        "# dic1 = {17: 68, 21: 72, 26: 70, 10: 30, 0: 6, 14: 28, 28: 63, 19: 62, 12: 23, 24: 65, 7: 10, 2: 9, 5: 6}\n",
        "# dic2 = {28: 224, 24: 45, 26: 100, 21: 74, 19: 37, 17: 15, 14: 5, 12: 8, 10: 2, 5: 1, 7: 1}\n",
        "# dic3 = {28: 87, 26: 103, 24: 85, 21: 79, 19: 59, 14: 14, 12: 19, 17: 34, 10: 14, 7: 4, 5: 4, 0: 7, 2: 3}\n",
        "# dic4 = {24: 68, 19: 66, 10: 16, 21: 76, 12: 23, 28: 52, 2: 4, 26: 78, 17: 86, 5: 4, 14: 28, 7: 8, 0: 3}\n",
        "# dic5 = {28: 36, 24: 79, 26: 45, 21: 81, 19: 78, 17: 65, 12: 37, 14: 37, 7: 12, 10: 27, 2: 7, 5: 5, 0: 3}\n",
        "# filters_pruned = dict(Counter(dic1)+Counter(dic2)+Counter(dic3)+Counter(dic4)+Counter(dic5))\n",
        "# filters_pruned\n",
        "# sum_filters_pruned = 0\n",
        "# dic_obd = {}\n",
        "# for k,v in filters_pruned.items():\n",
        "#     dic_obd[map_layer_nums[k]] = v\n",
        "#     sum_filters_pruned += v\n",
        "# print(sum_filters_pruned)\n",
        "# print(dic_obd)\n",
        "# keys_obd = list(dic_obd.keys())\n",
        "# vals_obd = [float(dic_obd[k]) for k in keys_obd]\n",
        "# sns.barplot(x=keys_obd, y=vals_obd)"
      ],
      "execution_count": 17,
      "outputs": []
    },
    {
      "cell_type": "code",
      "metadata": {
        "id": "Ym2miHfybnbV"
      },
      "source": [
        "# # Reg+OBD filters pruned\n",
        "# from collections import Counter\n",
        "# dic1 = {28: 252, 19: 37, 26: 92, 17: 20, 7: 7, 12: 3, 21: 40, 14: 10, 24: 39, 10: 9, 2: 2, 0: 1}\n",
        "# dic2 = {28: 117, 21: 93, 26: 115, 17: 30, 19: 59, 24: 52, 12: 17, 14: 12, 5: 2, 0: 6, 10: 5, 7: 3, 2: 1}\n",
        "# dic3 = {28: 42, 26: 79, 24: 71, 21: 91, 17: 63, 19: 74, 14: 28, 5: 6, 12: 28, 2: 5, 10: 12, 0: 7, 7: 6}\n",
        "# dic4 = {14: 31, 28: 20, 24: 78, 19: 79, 10: 30, 17: 80, 26: 64, 12: 39, 21: 53, 2: 7, 7: 15, 0: 4, 5: 12}\n",
        "# dic5 = {21: 58, 26: 53, 24: 88, 2: 6, 17: 86, 28: 30, 19: 70, 5: 15, 14: 33, 12: 31, 10: 31, 7: 9, 0: 2}\n",
        "# filters_pruned = dict(Counter(dic1)+Counter(dic2)+Counter(dic3)+Counter(dic4)+Counter(dic5))\n",
        "# filters_pruned\n",
        "# sum_filters_pruned = 0\n",
        "# dic_reg_obd = {}\n",
        "# for k,v in filters_pruned.items():\n",
        "#     dic_reg_obd[map_layer_nums[k]] = v\n",
        "#     sum_filters_pruned += v\n",
        "# print(sum_filters_pruned)\n",
        "# print(dic_reg_obd)\n",
        "# keys_reg_obd = list(dic_reg_obd.keys())\n",
        "# vals_reg_obd = [float(dic_reg_obd[k]) for k in keys_reg_obd]\n",
        "# sns.barplot(x=keys_reg_obd, y=vals_reg_obd)"
      ],
      "execution_count": 18,
      "outputs": []
    },
    {
      "cell_type": "code",
      "metadata": {
        "id": "aV2L0k83cDfr"
      },
      "source": [
        "# import matplotlib.pyplot as plt\n",
        "# import pandas as pd\n",
        "\n",
        "# d = {\n",
        "#     'OBD': dic_obd,\n",
        "#     'HSQGL12-OBD': dic_reg_obd\n",
        "# }\n",
        "# df = pd.DataFrame(d)\n",
        "# df1 = df.stack().reset_index().rename(columns={'level_1': 'Method', 0: 'Num Filters Pruned'})\n",
        "# df1.rename(columns={\"level_0\": \"Layer No.\"},inplace=True)\n",
        "# sns.barplot(x=df1['Layer No.'], y='Num Filters Pruned', data=df1, hue='Method')"
      ],
      "execution_count": 19,
      "outputs": []
    },
    {
      "cell_type": "code",
      "metadata": {
        "colab": {
          "base_uri": "https://localhost:8080/"
        },
        "id": "f_4KcteIohyr",
        "outputId": "2cc9713d-a7a6-4de1-9f95-77fd88a7dfd2"
      },
      "source": [
        "import pickle as pkl\n",
        "pkl_file = open('vgg_OBD.pkl','rb')\n",
        "a = pkl.load(pkl_file)\n",
        "a[0]"
      ],
      "execution_count": 25,
      "outputs": [
        {
          "output_type": "execute_result",
          "data": {
            "text/plain": [
              "{0: 5,\n",
              " 2: 2,\n",
              " 5: 4,\n",
              " 7: 7,\n",
              " 10: 20,\n",
              " 12: 29,\n",
              " 14: 28,\n",
              " 17: 94,\n",
              " 19: 71,\n",
              " 21: 62,\n",
              " 24: 66,\n",
              " 26: 58,\n",
              " 28: 66}"
            ]
          },
          "metadata": {
            "tags": []
          },
          "execution_count": 25
        }
      ]
    },
    {
      "cell_type": "code",
      "metadata": {
        "id": "9TsTLpG-oxCN"
      },
      "source": [
        ""
      ],
      "execution_count": null,
      "outputs": []
    }
  ]
}