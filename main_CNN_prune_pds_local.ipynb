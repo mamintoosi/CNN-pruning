{
 "cells": [
  {
   "cell_type": "markdown",
   "metadata": {
    "id": "9wIx_2FWSoSS"
   },
   "source": [
    "کد مربوطه به مقاله ارسالی با عنوان:\n",
    "\n",
    "### ترکیب روش آسیب مغزی بهینه و منظم‌سازی تُنُک ‌ در کوچک‌سازی یک مدل یادگیری عمیق برای شناسایی کووید۱۹\n",
    "\n",
    "به لحاظ ماهیت تصادفی مقداردهی اولیه‌ی وزنهای شبکه‌های عصبی و روال آموزش شبکه، اختلافات جزیی در اجراهای مختلف وجود دارد.\n",
    "\n",
    "M. Amintoosi, m.amintoosi at gmail.com"
   ]
  },
  {
   "cell_type": "code",
   "execution_count": 1,
   "metadata": {},
   "outputs": [],
   "source": [
    "import torch\n",
    "torch.manual_seed(1)\n",
    "import random\n",
    "random.seed(1)"
   ]
  },
  {
   "cell_type": "code",
   "execution_count": null,
   "metadata": {
    "colab": {
     "base_uri": "https://localhost:8080/"
    },
    "executionInfo": {
     "elapsed": 369,
     "status": "ok",
     "timestamp": 1623385269724,
     "user": {
      "displayName": "Mahmood Amintoosi",
      "photoUrl": "https://lh3.googleusercontent.com/a-/AOh14GiWZ48HqYJJmPdDTueTtb12dMDVlabGiGyYWEXTkA=s64",
      "userId": "06389092743998374259"
     },
     "user_tz": -270
    },
    "id": "JafVLkRaN28-",
    "outputId": "f5d5baf0-a959-43a3-ef76-7e8b9f8f40bd"
   },
   "outputs": [
    {
     "name": "stdout",
     "output_type": "stream",
     "text": [
      "/content\n"
     ]
    }
   ],
   "source": [
    "%cd ..\n",
    "!rm -r CNN-Pruning"
   ]
  },
  {
   "cell_type": "code",
   "execution_count": null,
   "metadata": {
    "colab": {
     "base_uri": "https://localhost:8080/"
    },
    "executionInfo": {
     "elapsed": 727,
     "status": "ok",
     "timestamp": 1623385271352,
     "user": {
      "displayName": "Mahmood Amintoosi",
      "photoUrl": "https://lh3.googleusercontent.com/a-/AOh14GiWZ48HqYJJmPdDTueTtb12dMDVlabGiGyYWEXTkA=s64",
      "userId": "06389092743998374259"
     },
     "user_tz": -270
    },
    "id": "i5czjq6_8lAK",
    "outputId": "e33f2b2c-94d1-43a6-fac1-f4516d3e7251"
   },
   "outputs": [
    {
     "name": "stdout",
     "output_type": "stream",
     "text": [
      "Cloning into 'CNN-Pruning'...\n",
      "remote: Enumerating objects: 41, done.\u001b[K\n",
      "remote: Counting objects: 100% (41/41), done.\u001b[K\n",
      "remote: Compressing objects: 100% (26/26), done.\u001b[K\n",
      "remote: Total 41 (delta 19), reused 35 (delta 13), pack-reused 0\u001b[K\n",
      "Unpacking objects: 100% (41/41), done.\n"
     ]
    }
   ],
   "source": [
    "!git clone https://github.com/mamintoosi/CNN-Pruning"
   ]
  },
  {
   "cell_type": "code",
   "execution_count": null,
   "metadata": {
    "colab": {
     "base_uri": "https://localhost:8080/"
    },
    "executionInfo": {
     "elapsed": 12,
     "status": "ok",
     "timestamp": 1623385272181,
     "user": {
      "displayName": "Mahmood Amintoosi",
      "photoUrl": "https://lh3.googleusercontent.com/a-/AOh14GiWZ48HqYJJmPdDTueTtb12dMDVlabGiGyYWEXTkA=s64",
      "userId": "06389092743998374259"
     },
     "user_tz": -270
    },
    "id": "Qeiu88GAdjh0",
    "outputId": "0126bf8b-849d-421b-c9e7-b6bc1ef6aa46"
   },
   "outputs": [
    {
     "name": "stdout",
     "output_type": "stream",
     "text": [
      "/content/CNN-Pruning\n"
     ]
    }
   ],
   "source": [
    "%cd CNN-Pruning"
   ]
  },
  {
   "cell_type": "code",
   "execution_count": 4,
   "metadata": {
    "colab": {
     "base_uri": "https://localhost:8080/"
    },
    "executionInfo": {
     "elapsed": 85564,
     "status": "ok",
     "timestamp": 1623385995469,
     "user": {
      "displayName": "Mahmood Amintoosi",
      "photoUrl": "https://lh3.googleusercontent.com/a-/AOh14GiWZ48HqYJJmPdDTueTtb12dMDVlabGiGyYWEXTkA=s64",
      "userId": "06389092743998374259"
     },
     "user_tz": -270
    },
    "id": "MD6uIT2naQti",
    "outputId": "b38ac72f-5e60-42d5-892f-cc20247dc773"
   },
   "outputs": [
    {
     "name": "stdout",
     "output_type": "stream",
     "text": [
      "MNIST\n",
      "Finished fine tuning.\n",
      "Wall time: 4.86 s\n"
     ]
    }
   ],
   "source": [
    "%%time\n",
    "# Transfer Learning: Train the VGG16 model\n",
    "torch.manual_seed(1)\n",
    "random.seed(1)\n",
    "# Download a pre-trained VGG16 model and train it\n",
    "#--use-cuda \\\n",
    "%run finetune_SpReg_pds.py --train \\\n",
    "  --train_epoch 0 --ds_name MNIST \\\n",
    "  --output_model vgg_mnist"
   ]
  },
  {
   "cell_type": "code",
   "execution_count": 6,
   "metadata": {},
   "outputs": [],
   "source": [
    "# fine_tuner.test()"
   ]
  },
  {
   "cell_type": "code",
   "execution_count": 8,
   "metadata": {
    "scrolled": true
   },
   "outputs": [
    {
     "name": "stdout",
     "output_type": "stream",
     "text": [
      "MNIST\n",
      "Accuracy : 0.13\n",
      "Predict  0        1        2        3        4        5        6        7        8        9        \n",
      "Actual\n",
      "0        0        6        8        0        0        0        0        0        0        0        \n",
      "\n",
      "1        0        8        11       0        1        0        0        0        0        0        \n",
      "\n",
      "2        0        6        5        1        0        0        0        0        0        0        \n",
      "\n",
      "3        0        4        4        0        0        0        0        0        0        0        \n",
      "\n",
      "4        0        1        4        1        0        0        0        0        0        0        \n",
      "\n",
      "5        0        2        2        0        0        0        0        0        0        0        \n",
      "\n",
      "6        0        0        7        0        0        0        0        0        0        0        \n",
      "\n",
      "7        0        3        3        1        0        1        0        0        0        0        \n",
      "\n",
      "8        0        6        3        0        0        1        0        0        0        0        \n",
      "\n",
      "9        0        3        7        0        0        1        0        0        0        0        \n",
      "\n",
      "\n",
      "\n",
      "\n",
      "\n",
      "Overall Statistics : \n",
      "\n",
      "95% CI                                                            (0.06408,0.19592)\n",
      "ACC Macro                                                         0.826\n",
      "ARI                                                               0.00018\n",
      "AUNP                                                              0.49059\n",
      "AUNU                                                              0.48989\n",
      "Bangdiwala B                                                      0.06054\n",
      "Bennett S                                                         0.03333\n",
      "CBA                                                               0.02977\n",
      "CSI                                                               None\n",
      "Chi-Squared                                                       None\n",
      "Chi-Squared DF                                                    81\n",
      "Conditional Entropy                                               1.1468\n",
      "Cramer V                                                          None\n",
      "Cross Entropy                                                     1.38407\n",
      "F1 Macro                                                          0.04227\n",
      "F1 Micro                                                          0.13\n",
      "FNR Macro                                                         0.91833\n",
      "FNR Micro                                                         0.87\n",
      "FPR Macro                                                         0.10188\n",
      "FPR Micro                                                         0.09667\n",
      "Gwet AC1                                                          0.04682\n",
      "Hamming Loss                                                      0.87\n",
      "Joint Entropy                                                     4.3387\n",
      "KL Divergence                                                     None\n",
      "Kappa                                                             -0.01993\n",
      "Kappa 95% CI                                                      (-0.0972,0.05735)\n",
      "Kappa No Prevalence                                               -0.74\n",
      "Kappa Standard Error                                              0.03943\n",
      "Kappa Unbiased                                                    -0.10779\n",
      "Krippendorff Alpha                                                -0.10225\n",
      "Lambda A                                                          0.025\n",
      "Lambda B                                                          0.08696\n",
      "Mutual Information                                                0.23301\n",
      "NIR                                                               0.2\n",
      "Overall ACC                                                       0.13\n",
      "Overall CEN                                                       0.53624\n",
      "Overall J                                                         (0.23883,0.02388)\n",
      "Overall MCC                                                       -0.02432\n",
      "Overall MCEN                                                      0.55376\n",
      "Overall RACC                                                      0.147\n",
      "Overall RACCU                                                     0.21465\n",
      "P-Value                                                           0.97467\n",
      "PPV Macro                                                         None\n",
      "PPV Micro                                                         0.13\n",
      "Pearson C                                                         None\n",
      "Phi-Squared                                                       None\n",
      "RCI                                                               0.073\n",
      "RR                                                                10.0\n",
      "Reference Entropy                                                 3.1919\n",
      "Response Entropy                                                  1.37981\n",
      "SOA1(Landis & Koch)                                               Poor\n",
      "SOA2(Fleiss)                                                      Poor\n",
      "SOA3(Altman)                                                      Poor\n",
      "SOA4(Cicchetti)                                                   Poor\n",
      "SOA5(Cramer)                                                      None\n",
      "SOA6(Matthews)                                                    Negligible\n",
      "Scott PI                                                          -0.10779\n",
      "Standard Error                                                    0.03363\n",
      "TNR Macro                                                         0.89812\n",
      "TNR Micro                                                         0.90333\n",
      "TPR Macro                                                         0.08167\n",
      "TPR Micro                                                         0.13\n",
      "Zero-one Loss                                                     87\n",
      "\n",
      "Class Statistics :\n",
      "\n",
      "Classes                                                           0             1             2             3             4             5             6             7             8             9             \n",
      "ACC(Accuracy)                                                     0.86          0.57          0.44          0.89          0.93          0.93          0.93          0.92          0.9           0.89          \n",
      "AGF(Adjusted F-score)                                             0.0           0.50416       0.41918       0.0           0.0           0.0           0.0           0.0           0.0           0.0           \n",
      "AGM(Adjusted geometric mean)                                      0             0.54721       0.43602       0             0             0             0             0             0             0             \n",
      "AM(Difference between automatic and manual classification)        -14           19            42            -5            -5            -1            -7            -8            -10           -11           \n",
      "AUC(Area under the ROC curve)                                     0.5           0.50625       0.42992       0.4837        0.49468       0.48438       0.5           0.5           0.5           0.5           \n",
      "AUCI(AUC value interpretation)                                    Poor          Poor          Poor          Poor          Poor          Poor          Poor          Poor          Poor          Poor          \n",
      "AUPR(Area under the PR curve)                                     None          0.30256       0.25463       0.0           0.0           0.0           None          None          None          None          \n",
      "BCD(Bray-Curtis dissimilarity)                                    0.07          0.095         0.21          0.025         0.025         0.005         0.035         0.04          0.05          0.055         \n",
      "BM(Informedness or bookmaker informedness)                        0.0           0.0125        -0.14015      -0.03261      -0.01064      -0.03125      0.0           0.0           0.0           0.0           \n",
      "CEN(Confusion entropy)                                            0.23627       0.60506       0.7053        0.4808        0.39917       0.5362        0.0           0.43437       0.31067       0.29753       \n",
      "DOR(Diagnostic odds ratio)                                        None          1.05376       0.56851       0.0           0.0           0.0           None          None          None          None          \n",
      "DP(Discriminant power)                                            None          0.01254       -0.13522      None          None          None          None          None          None          None          \n",
      "DPI(Discriminant power interpretation)                            None          Poor          Poor          None          None          None          None          None          None          None          \n",
      "ERR(Error rate)                                                   0.14          0.43          0.56          0.11          0.07          0.07          0.07          0.08          0.1           0.11          \n",
      "F0.5(F0.5 score)                                                  0.0           0.22727       0.10965       0.0           0.0           0.0           0.0           0.0           0.0           0.0           \n",
      "F1(F1 score - harmonic mean of precision and sensitivity)         0.0           0.27119       0.15152       0.0           0.0           0.0           0.0           0.0           0.0           0.0           \n",
      "F2(F2 score)                                                      0.0           0.33613       0.2451        0.0           0.0           0.0           0.0           0.0           0.0           0.0           \n",
      "FDR(False discovery rate)                                         None          0.79487       0.90741       1.0           1.0           1.0           None          None          None          None          \n",
      "FN(False negative/miss/type 2 error)                              14            12            7             8             6             4             7             8             10            11            \n",
      "FNR(Miss rate or false negative rate)                             1.0           0.6           0.58333       1.0           1.0           1.0           1.0           1.0           1.0           1.0           \n",
      "FOR(False omission rate)                                          0.14          0.19672       0.15217       0.08247       0.06061       0.04124       0.07          0.08          0.1           0.11          \n",
      "FP(False positive/type 1 error/false alarm)                       0             31            49            3             1             3             0             0             0             0             \n",
      "FPR(Fall-out or false positive rate)                              0.0           0.3875        0.55682       0.03261       0.01064       0.03125       0.0           0.0           0.0           0.0           \n",
      "G(G-measure geometric mean of precision and sensitivity)          None          0.28645       0.19642       0.0           0.0           0.0           None          None          None          None          \n",
      "GI(Gini index)                                                    0.0           0.0125        -0.14015      -0.03261      -0.01064      -0.03125      0.0           0.0           0.0           0.0           \n",
      "GM(G-mean geometric mean of specificity and sensitivity)          0.0           0.49497       0.42972       0.0           0.0           0.0           0.0           0.0           0.0           0.0           \n",
      "IBA(Index of balanced accuracy)                                   0.0           0.19294       0.17976       0.0           0.0           0.0           0.0           0.0           0.0           0.0           \n",
      "ICSI(Individual classification success index)                     None          -0.39487      -0.49074      -1.0          -1.0          -1.0          None          None          None          None          \n",
      "IS(Information score)                                             None          0.03653       -0.37407      None          None          None          None          None          None          None          \n",
      "J(Jaccard index)                                                  0.0           0.15686       0.08197       0.0           0.0           0.0           0.0           0.0           0.0           0.0           \n",
      "LS(Lift score)                                                    None          1.02564       0.7716        0.0           0.0           0.0           None          None          None          None          \n",
      "MCC(Matthews correlation coefficient)                             None          0.01025       -0.09138      -0.05186      -0.02539      -0.0359       None          None          None          None          \n",
      "MCCI(Matthews correlation coefficient interpretation)             None          Negligible    Negligible    Negligible    Negligible    Negligible    None          None          None          None          \n",
      "MCEN(Modified confusion entropy)                                  0.23627       0.65747       0.73809       0.4808        0.39917       0.5362        0.0           0.43437       0.31067       0.29753       \n",
      "MK(Markedness)                                                    None          0.00841       -0.05958      -0.08247      -0.06061      -0.04124      None          None          None          None          \n",
      "N(Condition negative)                                             86            80            88            92            94            96            93            92            90            89            \n",
      "NLR(Negative likelihood ratio)                                    1.0           0.97959       1.31624       1.03371       1.01075       1.03226       1.0           1.0           1.0           1.0           \n",
      "NLRI(Negative likelihood ratio interpretation)                    Negligible    Negligible    Negligible    Negligible    Negligible    Negligible    Negligible    Negligible    Negligible    Negligible    \n",
      "NPV(Negative predictive value)                                    0.86          0.80328       0.84783       0.91753       0.93939       0.95876       0.93          0.92          0.9           0.89          \n",
      "OC(Overlap coefficient)                                           None          0.4           0.41667       0.0           0.0           0.0           None          None          None          None          \n",
      "OOC(Otsuka-Ochiai coefficient)                                    None          0.28645       0.19642       0.0           0.0           0.0           None          None          None          None          \n",
      "OP(Optimized precision)                                           -0.14         0.36012       0.40916       -0.11         -0.07         -0.07         -0.07         -0.08         -0.1          -0.11         \n",
      "P(Condition positive or support)                                  14            20            12            8             6             4             7             8             10            11            \n",
      "PLR(Positive likelihood ratio)                                    None          1.03226       0.7483        0.0           0.0           0.0           None          None          None          None          \n",
      "PLRI(Positive likelihood ratio interpretation)                    None          Poor          Negligible    Negligible    Negligible    Negligible    None          None          None          None          \n",
      "POP(Population)                                                   100           100           100           100           100           100           100           100           100           100           \n",
      "PPV(Precision or positive predictive value)                       None          0.20513       0.09259       0.0           0.0           0.0           None          None          None          None          \n",
      "PRE(Prevalence)                                                   0.14          0.2           0.12          0.08          0.06          0.04          0.07          0.08          0.1           0.11          \n",
      "Q(Yule Q - coefficient of colligation)                            None          0.02618       -0.27509      -1.0          -1.0          -1.0          None          None          None          None          \n",
      "QI(Yule Q interpretation)                                         None          Negligible    Negligible    Negligible    Negligible    Negligible    None          None          None          None          \n",
      "RACC(Random accuracy)                                             0.0           0.078         0.0648        0.0024        0.0006        0.0012        0.0           0.0           0.0           0.0           \n",
      "RACCU(Random accuracy unbiased)                                   0.0049        0.08702       0.1089        0.00302       0.00123       0.00123       0.00123       0.0016        0.0025        0.00302       \n",
      "TN(True negative/correct rejection)                               86            49            39            89            93            93            93            92            90            89            \n",
      "TNR(Specificity or true negative rate)                            1.0           0.6125        0.44318       0.96739       0.98936       0.96875       1.0           1.0           1.0           1.0           \n",
      "TON(Test outcome negative)                                        100           61            46            97            99            97            100           100           100           100           \n",
      "TOP(Test outcome positive)                                        0             39            54            3             1             3             0             0             0             0             \n",
      "TP(True positive/hit)                                             0             8             5             0             0             0             0             0             0             0             \n",
      "TPR(Sensitivity, recall, hit rate, or true positive rate)         0.0           0.4           0.41667       0.0           0.0           0.0           0.0           0.0           0.0           0.0           \n",
      "Y(Youden index)                                                   0.0           0.0125        -0.14015      -0.03261      -0.01064      -0.03125      0.0           0.0           0.0           0.0           \n",
      "dInd(Distance index)                                              1.0           0.71425       0.80643       1.00053       1.00006       1.00049       1.0           1.0           1.0           1.0           \n",
      "sInd(Similarity index)                                            0.29289       0.49495       0.42977       0.29252       0.29285       0.29255       0.29289       0.29289       0.29289       0.29289       \n",
      "\n"
     ]
    },
    {
     "name": "stderr",
     "output_type": "stream",
     "text": [
      "C:\\Programs\\Anaconda3\\envs\\ptch\\lib\\site-packages\\pycm\\pycm_obj.py:195: RuntimeWarning: The confusion matrix is a high dimension matrix and won't be demonstrated properly.\n",
      "If confusion matrix has too many zeros (sparse matrix) you can set `sparse` flag to True in printing functions otherwise by using save_csv method to save the confusion matrix in csv format you'll have better demonstration.\n",
      "  warn(CLASS_NUMBER_WARNING, RuntimeWarning)\n"
     ]
    }
   ],
   "source": [
    "%run finetune_SpReg_pds.py --test \\\n",
    "  --ds_name MNIST \\\n",
    "  --input_model vgg_mnist"
   ]
  },
  {
   "cell_type": "code",
   "execution_count": null,
   "metadata": {
    "colab": {
     "base_uri": "https://localhost:8080/"
    },
    "executionInfo": {
     "elapsed": 358237,
     "status": "ok",
     "timestamp": 1623386952233,
     "user": {
      "displayName": "Mahmood Amintoosi",
      "photoUrl": "https://lh3.googleusercontent.com/a-/AOh14GiWZ48HqYJJmPdDTueTtb12dMDVlabGiGyYWEXTkA=s64",
      "userId": "06389092743998374259"
     },
     "user_tz": -270
    },
    "id": "pZFNpspZYXuP",
    "outputId": "71490f47-be26-49b2-f449-ea62d0b0f7d0"
   },
   "outputs": [
    {
     "name": "stdout",
     "output_type": "stream",
     "text": [
      "Using CUDA...\n",
      "Files already downloaded and verified\n",
      "Files already downloaded and verified\n",
      "Epoch:  1 / 10\n",
      "Accuracy : 0.824\n",
      "Epoch:  2 / 10\n",
      "Accuracy : 0.829\n",
      "Epoch:  3 / 10\n",
      "Accuracy : 0.836\n",
      "Epoch:  4 / 10\n",
      "Accuracy : 0.844\n",
      "Epoch:  5 / 10\n",
      "Accuracy : 0.834\n",
      "Epoch:  6 / 10\n",
      "Accuracy : 0.847\n",
      "Epoch:  7 / 10\n",
      "Accuracy : 0.823\n",
      "Epoch:  8 / 10\n",
      "Accuracy : 0.838\n",
      "Epoch:  9 / 10\n",
      "Accuracy : 0.839\n",
      "Epoch:  10 / 10\n",
      "Accuracy : 0.859\n",
      "Finished fine tuning.\n",
      "CPU times: user 5min 38s, sys: 11.1 s, total: 5min 49s\n",
      "Wall time: 5min 57s\n"
     ]
    }
   ],
   "source": [
    "%%time\n",
    "# Transfer Learning: Train the VGG16 model\n",
    "torch.manual_seed(1)\n",
    "random.seed(1)\n",
    "# Download a pre-trained VGG16 model and train it\n",
    "%run finetune_SpReg_cifar.py --train --use-cuda \\\n",
    "  --train_epoch 10 --ds_name 'STL10' \\\n",
    "  --output_model 'vgg_stl10'"
   ]
  },
  {
   "cell_type": "code",
   "execution_count": 18,
   "metadata": {},
   "outputs": [],
   "source": [
    "# import itertools\n",
    "# merged = list(itertools.chain.from_iterable(Labels))\n",
    "# merged"
   ]
  },
  {
   "cell_type": "code",
   "execution_count": null,
   "metadata": {
    "id": "MWJu4sy5YW_d"
   },
   "outputs": [],
   "source": [
    "# %%time\n",
    "# Test the transfer learning model\n",
    "# %run finetune_SpReg_cifar.py --test --ds_name 'cifar10' \\\n",
    "  # --input_model 'vgg_cifar10'"
   ]
  },
  {
   "cell_type": "code",
   "execution_count": null,
   "metadata": {
    "colab": {
     "base_uri": "https://localhost:8080/"
    },
    "executionInfo": {
     "elapsed": 827436,
     "status": "ok",
     "timestamp": 1623387853028,
     "user": {
      "displayName": "Mahmood Amintoosi",
      "photoUrl": "https://lh3.googleusercontent.com/a-/AOh14GiWZ48HqYJJmPdDTueTtb12dMDVlabGiGyYWEXTkA=s64",
      "userId": "06389092743998374259"
     },
     "user_tz": -270
    },
    "id": "gnCnYpvKvPXE",
    "outputId": "e61195d1-3ba2-4885-a495-81e6e06f1945"
   },
   "outputs": [
    {
     "name": "stdout",
     "output_type": "stream",
     "text": [
      "Using CUDA...\n",
      "Files already downloaded and verified\n",
      "Files already downloaded and verified\n",
      "Using Regularization:  HSQGL12\n",
      "Accuracy : 0.859\n",
      "Retraining with regularization ... \n",
      "Epoch:  1 / 10\n",
      "Accuracy : 0.807\n",
      "Epoch:  2 / 10\n",
      "Accuracy : 0.829\n",
      "Epoch:  3 / 10\n",
      "Accuracy : 0.843\n",
      "Epoch:  4 / 10\n",
      "Accuracy : 0.845\n",
      "Epoch:  5 / 10\n",
      "Accuracy : 0.824\n",
      "Epoch:  6 / 10\n",
      "Accuracy : 0.847\n",
      "Epoch:  7 / 10\n",
      "Accuracy : 0.823\n",
      "Epoch:  8 / 10\n",
      "Accuracy : 0.836\n",
      "Epoch:  9 / 10\n",
      "Accuracy : 0.845\n",
      "Epoch:  10 / 10\n",
      "Accuracy : 0.819\n",
      "Finished fine tuning.\n",
      "CPU times: user 13min 27s, sys: 11.8 s, total: 13min 39s\n",
      "Wall time: 13min 47s\n"
     ]
    }
   ],
   "source": [
    "%%time\n",
    "# Pruning the trained model using HSQGL12 method\n",
    "torch.manual_seed(1)\n",
    "random.seed(1)\n",
    "%run finetune_SpReg_cifar.py --prune --use-cuda --train_epoch 10 --reg_name 'HSQGL12' --ds_name 'STL10' \\\n",
    "  --input_model 'vgg_stl10' --output_model 'vgg_HSQGL12'"
   ]
  },
  {
   "cell_type": "code",
   "execution_count": null,
   "metadata": {
    "colab": {
     "base_uri": "https://localhost:8080/"
    },
    "executionInfo": {
     "elapsed": 445,
     "status": "ok",
     "timestamp": 1623387897350,
     "user": {
      "displayName": "Mahmood Amintoosi",
      "photoUrl": "https://lh3.googleusercontent.com/a-/AOh14GiWZ48HqYJJmPdDTueTtb12dMDVlabGiGyYWEXTkA=s64",
      "userId": "06389092743998374259"
     },
     "user_tz": -270
    },
    "id": "Mti_ExXF4DbP",
    "outputId": "55da97f4-f1e7-4798-d582-b013892ff4ee"
   },
   "outputs": [
    {
     "name": "stdout",
     "output_type": "stream",
     "text": [
      "total 1049288\n",
      "     4 .        0 for_models.txt  524640 vgg_HSQGL12.pt\n",
      "     4 ..  524640 vgg_cifar10.pt\n"
     ]
    }
   ],
   "source": [
    "!ls -as models"
   ]
  },
  {
   "cell_type": "code",
   "execution_count": null,
   "metadata": {
    "id": "SmpAK4Rkw5d9"
   },
   "outputs": [],
   "source": [
    "# %%time\n",
    "# # Test the model with regularization\n",
    "# %run finetune_SpReg.py --test --ds_name 'COVID-Radiography' \\\n",
    "#   --train_path 'data/COVID-Radiography/train' --test_path 'data/COVID-Radiography/test'\\\n",
    "#   --input_model 'vgg_HSQGL12'"
   ]
  },
  {
   "cell_type": "code",
   "execution_count": null,
   "metadata": {
    "colab": {
     "base_uri": "https://localhost:8080/"
    },
    "id": "MAhrCTM_q_w7",
    "outputId": "2499df5e-f5ca-4eca-96cb-1d73a6a0d7c2"
   },
   "outputs": [
    {
     "name": "stdout",
     "output_type": "stream",
     "text": [
      "Using CUDA...\n",
      "Files already downloaded and verified\n",
      "Files already downloaded and verified\n",
      "Accuracy : 0.859\n",
      "5\n",
      "Number of prunning iterations to reduce 70% filters 5\n",
      "Iter:  1 / 5\n",
      "Ranking filters.. \n",
      "Layers that will be prunned {10: 30, 5: 5, 19: 66, 21: 82, 24: 61, 17: 89, 26: 67, 28: 54, 14: 26, 2: 2, 7: 4, 12: 25, 0: 1}\n",
      "Prunning filters.. \n",
      "Filters prunned 12.121212121212125%\n",
      "Accuracy : 0.769\n",
      "Fine tuning to recover from prunning iteration.\n",
      "Epoch:  1 / 5\n"
     ]
    }
   ],
   "source": [
    "# Pruning the trained model using OBD method\n",
    "%%time\n",
    "torch.manual_seed(1)\n",
    "random.seed(1)\n",
    "%run finetune_SpReg_cifar.py --prune --use-cuda --ds_name 'STL10' \\\n",
    "  --input_model 'vgg_stl10' --output_model 'vgg_OBD' "
   ]
  },
  {
   "cell_type": "code",
   "execution_count": null,
   "metadata": {
    "id": "eWjAEMSCbiqi"
   },
   "outputs": [],
   "source": []
  },
  {
   "cell_type": "code",
   "execution_count": null,
   "metadata": {
    "id": "28UKKFY6bkUv"
   },
   "outputs": [],
   "source": []
  },
  {
   "cell_type": "code",
   "execution_count": null,
   "metadata": {
    "id": "d25r-2M5CBUa"
   },
   "outputs": [],
   "source": [
    "# %%time\n",
    "# # Test the pruned model using OBD method\n",
    "# %run finetune_SpReg.py --test --ds_name 'COVID-Radiography' \\\n",
    "#   --train_path 'data/COVID-Radiography/train' --test_path 'data/COVID-Radiography/test'\\\n",
    "#   --input_model 'vgg_OBD'"
   ]
  },
  {
   "cell_type": "code",
   "execution_count": null,
   "metadata": {
    "id": "HZeSjCPUISE_"
   },
   "outputs": [],
   "source": [
    "# %%time\n",
    "# # Train HSQGL12_OBD\n",
    "# torch.manual_seed(1)\n",
    "# random.seed(1)\n",
    "# %run finetune_SpReg.py --prune --use-cuda --ds_name 'cifar10' \\\n",
    "#   --input_model 'vgg_HSQGL12' --output_model 'vgg_HSQGL12_OBD'"
   ]
  },
  {
   "cell_type": "code",
   "execution_count": null,
   "metadata": {
    "id": "I-3XDSXdI3mW"
   },
   "outputs": [],
   "source": [
    "# %%time\n",
    "# # Test the HSQGL12_OBD model \n",
    "# %run finetune_SpReg.py --test --ds_name 'COVID-Radiography' \\\n",
    "#   --train_path 'data/COVID-Radiography/train' --test_path 'data/COVID-Radiography/test'\\\n",
    "#   --input_model 'vgg_HSQGL12_OBD'"
   ]
  },
  {
   "cell_type": "code",
   "execution_count": null,
   "metadata": {
    "colab": {
     "base_uri": "https://localhost:8080/"
    },
    "executionInfo": {
     "elapsed": 3874676,
     "status": "ok",
     "timestamp": 1617429768971,
     "user": {
      "displayName": "Mahmood Amintoosi",
      "photoUrl": "https://lh3.googleusercontent.com/a-/AOh14GiWZ48HqYJJmPdDTueTtb12dMDVlabGiGyYWEXTkA=s64",
      "userId": "06389092743998374259"
     },
     "user_tz": -270
    },
    "id": "o944JwceRK5Z",
    "outputId": "7f56ea9a-214e-4e5b-a582-d89da1503b6f"
   },
   "outputs": [
    {
     "name": "stdout",
     "output_type": "stream",
     "text": [
      "total 1276376\n",
      "     0 for_models.txt  114132 vgg_HSQGL12_OBD.pt  113220 vgg_OBD.pt\n",
      "524512 vgg_covid.pt    524512 vgg_HSQGL12.pt\n"
     ]
    }
   ],
   "source": [
    "# Print Model Sizes\n",
    "%ls -s models"
   ]
  },
  {
   "cell_type": "code",
   "execution_count": 12,
   "metadata": {},
   "outputs": [],
   "source": [
    "def bar_filters_pruned(dic):\n",
    "    filters_pruned = dict(Counter(dic[0])+Counter(dic[1])+Counter(dic[2])+\\\n",
    "                          Counter(dic[3])+Counter(dic[4]))\n",
    "    sum_filters_pruned = 0\n",
    "    dic_obd = {}\n",
    "    for k,v in filters_pruned.items():\n",
    "        dic_obd[map_layer_nums[k]] = v\n",
    "        sum_filters_pruned += v\n",
    "    print(sum_filters_pruned)\n",
    "    print(dic_obd)\n",
    "    keys_obd = list(dic_obd.keys())\n",
    "    vals_obd = [float(dic_obd[k]) for k in keys_obd]\n",
    "    sns.barplot(x=keys_obd, y=vals_obd)\n",
    "    return dic_obd"
   ]
  },
  {
   "cell_type": "code",
   "execution_count": 13,
   "metadata": {
    "id": "2NrYHFi9N1KG"
   },
   "outputs": [
    {
     "data": {
      "text/plain": [
       "5"
      ]
     },
     "execution_count": 13,
     "metadata": {},
     "output_type": "execute_result"
    }
   ],
   "source": [
    "import pickle as pkl\n",
    "pkl_file = open('tmp/FashionMNIST/vgg_OBD.pkl','rb')\n",
    "dic = pkl.load(pkl_file)\n",
    "len(dic)"
   ]
  },
  {
   "cell_type": "code",
   "execution_count": 14,
   "metadata": {
    "id": "lcm4NwKfaibA"
   },
   "outputs": [
    {
     "name": "stdout",
     "output_type": "stream",
     "text": [
      "2560\n",
      "{8: 338, 5: 129, 13: 339, 10: 339, 9: 335, 11: 318, 7: 148, 6: 146, 12: 300, 2: 32, 1: 23, 4: 65, 3: 48}\n"
     ]
    },
    {
     "data": {
      "image/png": "[encoded data removed]",
      "text/plain": [
       "<Figure size 432x288 with 1 Axes>"
      ]
     },
     "metadata": {
      "needs_background": "light"
     },
     "output_type": "display_data"
    }
   ],
   "source": [
    "import seaborn as sns\n",
    "map_layer_nums = {0:1,2:2,5:3,7:4,10:5,12:6,14:7,17:8,19:9,21:10,24:11,26:12,28:13}\n",
    "# # OBD filters pruned\n",
    "from collections import Counter\n",
    "dic_obd = bar_filters_pruned(dic)"
   ]
  },
  {
   "cell_type": "code",
   "execution_count": 15,
   "metadata": {},
   "outputs": [
    {
     "name": "stdout",
     "output_type": "stream",
     "text": [
      "2560\n",
      "{6: 148, 13: 319, 10: 334, 9: 334, 8: 335, 5: 145, 7: 139, 4: 58, 11: 306, 12: 314, 1: 29, 2: 41, 3: 58}\n"
     ]
    },
    {
     "data": {
      "image/png": "[encoded data removed]",
      "text/plain": [
       "<Figure size 432x288 with 1 Axes>"
      ]
     },
     "metadata": {
      "needs_background": "light"
     },
     "output_type": "display_data"
    }
   ],
   "source": [
    "pkl_file = open('tmp/FashionMNIST/vgg_HSQGL12_OBD.pkl','rb')\n",
    "dic = pkl.load(pkl_file)\n",
    "dic_reg_obd = bar_filters_pruned(dic)"
   ]
  },
  {
   "cell_type": "code",
   "execution_count": null,
   "metadata": {
    "id": "Ym2miHfybnbV"
   },
   "outputs": [],
   "source": [
    "# # Reg+OBD filters pruned\n",
    "# from collections import Counter\n",
    "# dic1 = {28: 252, 19: 37, 26: 92, 17: 20, 7: 7, 12: 3, 21: 40, 14: 10, 24: 39, 10: 9, 2: 2, 0: 1}\n",
    "# dic2 = {28: 117, 21: 93, 26: 115, 17: 30, 19: 59, 24: 52, 12: 17, 14: 12, 5: 2, 0: 6, 10: 5, 7: 3, 2: 1}\n",
    "# dic3 = {28: 42, 26: 79, 24: 71, 21: 91, 17: 63, 19: 74, 14: 28, 5: 6, 12: 28, 2: 5, 10: 12, 0: 7, 7: 6}\n",
    "# dic4 = {14: 31, 28: 20, 24: 78, 19: 79, 10: 30, 17: 80, 26: 64, 12: 39, 21: 53, 2: 7, 7: 15, 0: 4, 5: 12}\n",
    "# dic5 = {21: 58, 26: 53, 24: 88, 2: 6, 17: 86, 28: 30, 19: 70, 5: 15, 14: 33, 12: 31, 10: 31, 7: 9, 0: 2}\n",
    "# filters_pruned = dict(Counter(dic1)+Counter(dic2)+Counter(dic3)+Counter(dic4)+Counter(dic5))\n",
    "# filters_pruned\n",
    "# sum_filters_pruned = 0\n",
    "# dic_reg_obd = {}\n",
    "# for k,v in filters_pruned.items():\n",
    "#     dic_reg_obd[map_layer_nums[k]] = v\n",
    "#     sum_filters_pruned += v\n",
    "# print(sum_filters_pruned)\n",
    "# print(dic_reg_obd)\n",
    "# keys_reg_obd = list(dic_reg_obd.keys())\n",
    "# vals_reg_obd = [float(dic_reg_obd[k]) for k in keys_reg_obd]\n",
    "# sns.barplot(x=keys_reg_obd, y=vals_reg_obd)"
   ]
  },
  {
   "cell_type": "code",
   "execution_count": 16,
   "metadata": {
    "id": "aV2L0k83cDfr"
   },
   "outputs": [
    {
     "data": {
      "text/plain": [
       "<matplotlib.axes._subplots.AxesSubplot at 0x20d95003c88>"
      ]
     },
     "execution_count": 16,
     "metadata": {},
     "output_type": "execute_result"
    },
    {
     "data": {
      "image/png": "[encoded data removed]",
      "text/plain": [
       "<Figure size 432x288 with 1 Axes>"
      ]
     },
     "metadata": {
      "needs_background": "light"
     },
     "output_type": "display_data"
    }
   ],
   "source": [
    "import matplotlib.pyplot as plt\n",
    "import pandas as pd\n",
    "\n",
    "d = {\n",
    "    'OBD': dic_obd,\n",
    "    'HSQGL12-OBD': dic_reg_obd\n",
    "}\n",
    "df = pd.DataFrame(d)\n",
    "df1 = df.stack().reset_index().rename(columns={'level_1': 'Method', 0: 'Num Filters Pruned'})\n",
    "df1.rename(columns={\"level_0\": \"Layer No.\"},inplace=True)\n",
    "sns.barplot(x=df1['Layer No.'], y='Num Filters Pruned', data=df1, hue='Method')"
   ]
  },
  {
   "cell_type": "code",
   "execution_count": 1,
   "metadata": {},
   "outputs": [
    {
     "name": "stdout",
     "output_type": "stream",
     "text": [
      "Predict 0       1       2       \n",
      "Actual\n",
      "0       3       0       0       \n",
      "\n",
      "1       0       1       2       \n",
      "\n",
      "2       2       1       3       \n",
      "\n",
      "\n",
      "\n",
      "\n",
      "\n",
      "Overall Statistics : \n",
      "\n",
      "95% CI                                                            (0.30439,0.86228)\n",
      "ACC Macro                                                         0.72222\n",
      "ARI                                                               0.09206\n",
      "AUNP                                                              0.66667\n",
      "AUNU                                                              0.69444\n",
      "Bangdiwala B                                                      0.37255\n",
      "Bennett S                                                         0.375\n",
      "CBA                                                               0.47778\n",
      "CSI                                                               0.17778\n",
      "Chi-Squared                                                       6.6\n",
      "Chi-Squared DF                                                    4\n",
      "Conditional Entropy                                               0.95915\n",
      "Cramer V                                                          0.5244\n",
      "Cross Entropy                                                     1.59352\n",
      "F1 Macro                                                          0.56515\n",
      "F1 Micro                                                          0.58333\n",
      "FNR Macro                                                         0.38889\n",
      "FNR Micro                                                         0.41667\n",
      "FPR Macro                                                         0.22222\n",
      "FPR Micro                                                         0.20833\n",
      "Gwet AC1                                                          0.38931\n",
      "Hamming Loss                                                      0.41667\n",
      "Joint Entropy                                                     2.45915\n",
      "KL Divergence                                                     0.09352\n",
      "Kappa                                                             0.35484\n",
      "Kappa 95% CI                                                      (-0.07708,0.78675)\n",
      "Kappa No Prevalence                                               0.16667\n",
      "Kappa Standard Error                                              0.22036\n",
      "Kappa Unbiased                                                    0.34426\n",
      "Krippendorff Alpha                                                0.37158\n",
      "Lambda A                                                          0.16667\n",
      "Lambda B                                                          0.42857\n",
      "Mutual Information                                                0.52421\n",
      "NIR                                                               0.5\n",
      "Overall ACC                                                       0.58333\n",
      "Overall CEN                                                       0.46381\n",
      "Overall J                                                         (1.225,0.40833)\n",
      "Overall MCC                                                       0.36667\n",
      "Overall MCEN                                                      0.51894\n",
      "Overall RACC                                                      0.35417\n",
      "Overall RACCU                                                     0.36458\n",
      "P-Value                                                           0.38721\n",
      "PPV Macro                                                         0.56667\n",
      "PPV Micro                                                         0.58333\n",
      "Pearson C                                                         0.59568\n",
      "Phi-Squared                                                       0.55\n",
      "RCI                                                               0.34947\n",
      "RR                                                                4.0\n",
      "Reference Entropy                                                 1.5\n",
      "Response Entropy                                                  1.48336\n",
      "SOA1(Landis & Koch)                                               Fair\n",
      "SOA2(Fleiss)                                                      Poor\n",
      "SOA3(Altman)                                                      Fair\n",
      "SOA4(Cicchetti)                                                   Poor\n",
      "SOA5(Cramer)                                                      Relatively Strong\n",
      "SOA6(Matthews)                                                    Weak\n",
      "Scott PI                                                          0.34426\n",
      "Standard Error                                                    0.14232\n",
      "TNR Macro                                                         0.77778\n",
      "TNR Micro                                                         0.79167\n",
      "TPR Macro                                                         0.61111\n",
      "TPR Micro                                                         0.58333\n",
      "Zero-one Loss                                                     5\n",
      "\n",
      "Class Statistics :\n",
      "\n",
      "Classes                                                           0             1             2             \n",
      "ACC(Accuracy)                                                     0.83333       0.75          0.58333       \n",
      "AGF(Adjusted F-score)                                             0.9136        0.53995       0.5516        \n",
      "AGM(Adjusted geometric mean)                                      0.83729       0.692         0.60712       \n",
      "AM(Difference between automatic and manual classification)        2             -1            -1            \n",
      "AUC(Area under the ROC curve)                                     0.88889       0.61111       0.58333       \n",
      "AUCI(AUC value interpretation)                                    Very Good     Fair          Poor          \n",
      "AUPR(Area under the PR curve)                                     0.8           0.41667       0.55          \n",
      "BCD(Bray-Curtis dissimilarity)                                    0.08333       0.04167       0.04167       \n",
      "BM(Informedness or bookmaker informedness)                        0.77778       0.22222       0.16667       \n",
      "CEN(Confusion entropy)                                            0.25          0.49658       0.60442       \n",
      "DOR(Diagnostic odds ratio)                                        None          4.0           2.0           \n",
      "DP(Discriminant power)                                            None          0.33193       0.16597       \n",
      "DPI(Discriminant power interpretation)                            None          Poor          Poor          \n",
      "ERR(Error rate)                                                   0.16667       0.25          0.41667       \n",
      "F0.5(F0.5 score)                                                  0.65217       0.45455       0.57692       \n",
      "F1(F1 score - harmonic mean of precision and sensitivity)         0.75          0.4           0.54545       \n",
      "F2(F2 score)                                                      0.88235       0.35714       0.51724       \n",
      "FDR(False discovery rate)                                         0.4           0.5           0.4           \n",
      "FN(False negative/miss/type 2 error)                              0             2             3             \n",
      "FNR(Miss rate or false negative rate)                             0.0           0.66667       0.5           \n",
      "FOR(False omission rate)                                          0.0           0.2           0.42857       \n",
      "FP(False positive/type 1 error/false alarm)                       2             1             2             \n",
      "FPR(Fall-out or false positive rate)                              0.22222       0.11111       0.33333       \n",
      "G(G-measure geometric mean of precision and sensitivity)          0.7746        0.40825       0.54772       \n",
      "GI(Gini index)                                                    0.77778       0.22222       0.16667       \n",
      "GM(G-mean geometric mean of specificity and sensitivity)          0.88192       0.54433       0.57735       \n",
      "IBA(Index of balanced accuracy)                                   0.95062       0.13169       0.27778       \n",
      "ICSI(Individual classification success index)                     0.6           -0.16667      0.1           \n",
      "IS(Information score)                                             1.26303       1.0           0.26303       \n",
      "J(Jaccard index)                                                  0.6           0.25          0.375         \n",
      "LS(Lift score)                                                    2.4           2.0           1.2           \n",
      "MCC(Matthews correlation coefficient)                             0.68313       0.2582        0.16903       \n",
      "MCCI(Matthews correlation coefficient interpretation)             Moderate      Negligible    Negligible    \n",
      "MCEN(Modified confusion entropy)                                  0.26439       0.5           0.6875        \n",
      "MK(Markedness)                                                    0.6           0.3           0.17143       \n",
      "N(Condition negative)                                             9             9             6             \n",
      "NLR(Negative likelihood ratio)                                    0.0           0.75          0.75          \n",
      "NLRI(Negative likelihood ratio interpretation)                    Good          Negligible    Negligible    \n",
      "NPV(Negative predictive value)                                    1.0           0.8           0.57143       \n",
      "OC(Overlap coefficient)                                           1.0           0.5           0.6           \n",
      "OOC(Otsuka-Ochiai coefficient)                                    0.7746        0.40825       0.54772       \n",
      "OP(Optimized precision)                                           0.70833       0.29545       0.44048       \n",
      "P(Condition positive or support)                                  3             3             6             \n",
      "PLR(Positive likelihood ratio)                                    4.5           3.0           1.5           \n",
      "PLRI(Positive likelihood ratio interpretation)                    Poor          Poor          Poor          \n",
      "POP(Population)                                                   12            12            12            \n",
      "PPV(Precision or positive predictive value)                       0.6           0.5           0.6           \n",
      "PRE(Prevalence)                                                   0.25          0.25          0.5           \n",
      "Q(Yule Q - coefficient of colligation)                            None          0.6           0.33333       \n",
      "QI(Yule Q interpretation)                                         None          Moderate      Weak          \n",
      "RACC(Random accuracy)                                             0.10417       0.04167       0.20833       \n",
      "RACCU(Random accuracy unbiased)                                   0.11111       0.0434        0.21007       \n",
      "TN(True negative/correct rejection)                               7             8             4             \n",
      "TNR(Specificity or true negative rate)                            0.77778       0.88889       0.66667       \n",
      "TON(Test outcome negative)                                        7             10            7             \n",
      "TOP(Test outcome positive)                                        5             2             5             \n",
      "TP(True positive/hit)                                             3             1             3             \n",
      "TPR(Sensitivity, recall, hit rate, or true positive rate)         1.0           0.33333       0.5           \n",
      "Y(Youden index)                                                   0.77778       0.22222       0.16667       \n",
      "dInd(Distance index)                                              0.22222       0.67586       0.60093       \n",
      "sInd(Similarity index)                                            0.84287       0.52209       0.57508       \n",
      "\n"
     ]
    }
   ],
   "source": [
    "from pycm import *\n",
    "y_actu = [2, 0, 2, 2, 0, 1, 1, 2, 2, 0, 1, 2] # or y_actu = numpy.array([2, 0, 2, 2, 0, 1, 1, 2, 2, 0, 1, 2])\n",
    "y_pred = [0, 0, 2, 1, 0, 2, 1, 0, 2, 0, 2, 2] # or y_pred = numpy.array([0, 0, 2, 1, 0, 2, 1, 0, 2, 0, 2, 2])\n",
    "cm = ConfusionMatrix(actual_vector=y_actu, predict_vector=y_pred) # Create CM From Data\n",
    "cm.classes\n",
    "[0, 1, 2]\n",
    "cm.table\n",
    "{0: {0: 3, 1: 0, 2: 0}, 1: {0: 0, 1: 1, 2: 2}, 2: {0: 2, 1: 1, 2: 3}}\n",
    "print(cm)"
   ]
  },
  {
   "cell_type": "code",
   "execution_count": 5,
   "metadata": {},
   "outputs": [
    {
     "data": {
      "text/plain": [
       "0.5651515151515151"
      ]
     },
     "execution_count": 5,
     "metadata": {},
     "output_type": "execute_result"
    }
   ],
   "source": [
    "cm.F1_Macro"
   ]
  },
  {
   "cell_type": "code",
   "execution_count": 9,
   "metadata": {},
   "outputs": [],
   "source": [
    "import pickle as pkl\n",
    "loss_file_name = 'tmp/MNIST/MNIST_loss.pkl'\n",
    "with open(loss_file_name, 'rb') as f:\n",
    "    Loss_trains, Loss_vals = pkl.load(f)\n",
    "# Loss_trains"
   ]
  },
  {
   "cell_type": "code",
   "execution_count": 10,
   "metadata": {},
   "outputs": [
    {
     "data": {
      "text/plain": [
       "list"
      ]
     },
     "execution_count": 10,
     "metadata": {},
     "output_type": "execute_result"
    }
   ],
   "source": [
    "type(Loss_trains)"
   ]
  },
  {
   "cell_type": "code",
   "execution_count": 12,
   "metadata": {},
   "outputs": [
    {
     "data": {
      "image/png": "[encoded data removed]",
      "text/plain": [
       "<Figure size 432x288 with 1 Axes>"
      ]
     },
     "metadata": {
      "needs_background": "light"
     },
     "output_type": "display_data"
    }
   ],
   "source": [
    "import matplotlib.pyplot as plt\n",
    "plt.plot(Loss_trains,'g', Loss_vals, 'r')\n",
    "plt.show()"
   ]
  },
  {
   "cell_type": "code",
   "execution_count": 22,
   "metadata": {},
   "outputs": [
    {
     "data": {
      "image/png": "[encoded data removed]",
      "text/plain": [
       "<Figure size 432x288 with 1 Axes>"
      ]
     },
     "metadata": {
      "needs_background": "light"
     },
     "output_type": "display_data"
    },
    {
     "name": "stdout",
     "output_type": "stream",
     "text": [
      "15\n"
     ]
    }
   ],
   "source": [
    "fig, ax = plt.subplots()\n",
    "ax.plot(Loss_trains, label='Train Loss', color='blue')\n",
    "ax.plot(Loss_vals, label='Validation Loss', color = 'red')\n",
    "ax.plot(np.argmin(Loss_vals), np.min(Loss_vals),'g*')\n",
    "legend = ax.legend(loc='center right', fontsize='x-large')\n",
    "plt.xlabel('Epoch No.')\n",
    "plt.ylabel('Loss')\n",
    "plt.show()\n",
    "print(np.argmin(Loss_vals))"
   ]
  },
  {
   "cell_type": "code",
   "execution_count": 16,
   "metadata": {},
   "outputs": [
    {
     "data": {
      "text/plain": [
       "15"
      ]
     },
     "execution_count": 16,
     "metadata": {},
     "output_type": "execute_result"
    }
   ],
   "source": [
    "np.argmin(Loss_vals)"
   ]
  },
  {
   "cell_type": "code",
   "execution_count": 17,
   "metadata": {},
   "outputs": [
    {
     "data": {
      "text/plain": [
       "inf"
      ]
     },
     "execution_count": 17,
     "metadata": {},
     "output_type": "execute_result"
    }
   ],
   "source": [
    "np.inf"
   ]
  }
 ],
 "metadata": {
  "accelerator": "GPU",
  "colab": {
   "collapsed_sections": [],
   "name": "main_CNN_prune_stl10_01.ipynb",
   "provenance": [
    {
     "file_id": "1xZSsiqIOgGX_2QTFCmo141vbQ_SYJt0L",
     "timestamp": 1616958278149
    }
   ]
  },
  "interpreter": {
   "hash": "e96151e43c7d4771e8c5cd465cb7a781ca0d318ba14bc12f3e5d943cd2960fb0"
  },
  "kernelspec": {
   "display_name": "Python 3",
   "language": "python",
   "name": "python3"
  },
  "language_info": {
   "codemirror_mode": {
    "name": "ipython",
    "version": 3
   },
   "file_extension": ".py",
   "mimetype": "text/x-python",
   "name": "python",
   "nbconvert_exporter": "python",
   "pygments_lexer": "ipython3",
   "version": "3.7.6"
  }
 },
 "nbformat": 4,
 "nbformat_minor": 1
}
