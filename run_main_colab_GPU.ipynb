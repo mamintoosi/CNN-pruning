{
 "cells": [
  {
   "cell_type": "markdown",
   "metadata": {
    "colab_type": "text",
    "id": "NpP1lFDHP4nm"
   },
   "source": [
    "M. Amintoosi\n",
    "\n",
    "# Pruning deep neural networks to make them fast and small\n",
    "\n",
    "https://jacobgil.github.io/deeplearning/pruning-deep-learning"
   ]
  },
  {
   "cell_type": "code",
   "execution_count": null,
   "metadata": {
    "colab": {
     "base_uri": "https://localhost:8080/",
     "height": 130
    },
    "colab_type": "code",
    "executionInfo": {
     "elapsed": 55062,
     "status": "ok",
     "timestamp": 1599677863905,
     "user": {
      "displayName": "Mahmood Amintoosi",
      "photoUrl": "https://lh3.googleusercontent.com/a-/AOh14GiWZ48HqYJJmPdDTueTtb12dMDVlabGiGyYWEXTkA=s64",
      "userId": "06389092743998374259"
     },
     "user_tz": -270
    },
    "id": "i9heXou58lAF",
    "outputId": "a618a61b-171a-448c-dec6-f2f45190a1c4"
   },
   "outputs": [],
   "source": [
    "from google.colab import drive\n",
    "drive.mount('/content/drive', force_remount=True)"
   ]
  },
  {
   "cell_type": "code",
   "execution_count": null,
   "metadata": {},
   "outputs": [],
   "source": [
    "%cd /content/drive/My Drive/onlyOnWeb/covid19/covid-ct/COVID-CT/CNN-prunning-for-COVID19"
   ]
  },
  {
   "cell_type": "code",
   "execution_count": null,
   "metadata": {
    "colab": {},
    "colab_type": "code",
    "executionInfo": {
     "elapsed": 2470,
     "status": "ok",
     "timestamp": 1599677866395,
     "user": {
      "displayName": "Mahmood Amintoosi",
      "photoUrl": "https://lh3.googleusercontent.com/a-/AOh14GiWZ48HqYJJmPdDTueTtb12dMDVlabGiGyYWEXTkA=s64",
      "userId": "06389092743998374259"
     },
     "user_tz": -270
    },
    "id": "i5czjq6_8lAK"
   },
   "outputs": [],
   "source": [
    "import os, shutil\n",
    "from os import listdir\n",
    "from os.path import isfile, join\n",
    "from pathlib import Path\n",
    "# import numpy as np\n",
    "import matplotlib.pyplot as plt\n",
    "from sklearn.metrics import classification_report, confusion_matrix\n",
    "import time\n",
    "from time import strftime\n",
    "import datetime\n",
    "import importlib"
   ]
  },
  {
   "cell_type": "code",
   "execution_count": null,
   "metadata": {},
   "outputs": [],
   "source": [
    "def createFolders_copyImages():\n",
    "    new_data_dir = '../../data'\n",
    "    root_dir='../../Images-processed'\n",
    "    labels = ['COVID', 'NonCOVID']\n",
    "    classes = ['CT_COVID', 'CT_NonCOVID']\n",
    "\n",
    "    if(os.path.isdir(new_data_dir) == 0):\n",
    "        os.mkdir(new_data_dir)\n",
    "    for tvt in ['train','test','val']:\n",
    "        tvt_dir = os.path.join(new_data_dir,tvt)\n",
    "        if(os.path.isdir(tvt_dir) == 0):\n",
    "            os.mkdir(tvt_dir)\n",
    "        for c in range(len(labels)):\n",
    "            label_dir = os.path.join(tvt_dir,labels[c])\n",
    "            if(os.path.isdir(label_dir) == 0):\n",
    "                os.mkdir(label_dir)\n",
    "    img_list = []\n",
    "    dst_img_list = []\n",
    "\n",
    "    for tvt in ['train','test','val']:\n",
    "        txt_COVID='../../Data-split/COVID/'+tvt+'CT_COVID.txt'\n",
    "        txt_NonCOVID='../../Data-split/NonCOVID/'+tvt+'CT_NonCOVID.txt'\n",
    "\n",
    "        txt_path = [txt_COVID,txt_NonCOVID]\n",
    "        # print(txt_path[0])\n",
    "        num_cls = len(classes)\n",
    "        for c in range(num_cls):\n",
    "            cls_list = [[os.path.join(root_dir,classes[c],item), c] for item in read_txt(txt_path[c])]\n",
    "            dst_list = [os.path.join(new_data_dir,tvt,labels[c],item) for item in read_txt(txt_path[c])]\n",
    "            img_list += cls_list\n",
    "            dst_img_list += dst_list     \n",
    "\n",
    "    for i in range(len(dst_img_list)):\n",
    "        shutil.copy(img_list[i][0], dst_img_list[i])\n"
   ]
  },
  {
   "cell_type": "code",
   "execution_count": null,
   "metadata": {},
   "outputs": [],
   "source": [
    "createFolders_copyImages()"
   ]
  },
  {
   "cell_type": "code",
   "execution_count": null,
   "metadata": {
    "colab": {},
    "colab_type": "code",
    "executionInfo": {
     "elapsed": 6490,
     "status": "ok",
     "timestamp": 1599677870428,
     "user": {
      "displayName": "Mahmood Amintoosi",
      "photoUrl": "https://lh3.googleusercontent.com/a-/AOh14GiWZ48HqYJJmPdDTueTtb12dMDVlabGiGyYWEXTkA=s64",
      "userId": "06389092743998374259"
     },
     "user_tz": -270
    },
    "id": "Qeiu88GAdjh0"
   },
   "outputs": [],
   "source": [
    "import argparse\n",
    "import torch\n",
    "import numpy as np\n",
    "import matplotlib.pyplot as plt\n",
    "import torch.nn as nn\n",
    "import torch.nn.parallel\n",
    "import torch.backends.cudnn as cudnn\n",
    "import torch.nn.functional as F\n",
    "import torch.optim as optim\n",
    "import torch\n",
    "import torchvision\n",
    "from torchvision import datasets, transforms\n",
    "from torchsummary import summary\n",
    "import pickle\n",
    "from torchvision import models"
   ]
  },
  {
   "cell_type": "code",
   "execution_count": null,
   "metadata": {
    "colab": {},
    "colab_type": "code",
    "executionInfo": {
     "elapsed": 7221,
     "status": "ok",
     "timestamp": 1599677871167,
     "user": {
      "displayName": "Mahmood Amintoosi",
      "photoUrl": "https://lh3.googleusercontent.com/a-/AOh14GiWZ48HqYJJmPdDTueTtb12dMDVlabGiGyYWEXTkA=s64",
      "userId": "06389092743998374259"
     },
     "user_tz": -270
    },
    "id": "sjdtb08j8lAN"
   },
   "outputs": [],
   "source": [
    "# MAT_web_dir = '/content/drive/My Drive/onlyOnWeb/'\n",
    "# datasets_dir = MAT_web_dir + 'datasets/'\n",
    "# model_web_dir = MAT_web_dir + \"models/\"\n",
    "# local_output_dir = '/content/drive/My Drive/codes/Sparse/pytorch-pruning/doc/output'\n",
    "# base_dir ='/content/drive/My Drive/codes/Sparse/pytorch-pruning/'\n",
    "# data_dir = '/content/data'\n",
    "# Path(MAT_web_dir).mkdir(parents=True, exist_ok=True)\n",
    "# Path(local_output_dir).mkdir(parents=True, exist_ok=True)\n",
    "# Path(data_dir).mkdir(parents=True, exist_ok=True)"
   ]
  },
  {
   "cell_type": "code",
   "execution_count": null,
   "metadata": {
    "colab": {
     "base_uri": "https://localhost:8080/",
     "height": 1000
    },
    "colab_type": "code",
    "executionInfo": {
     "elapsed": 67657,
     "status": "ok",
     "timestamp": 1599651660027,
     "user": {
      "displayName": "Mahmood Amintoosi",
      "photoUrl": "https://lh3.googleusercontent.com/a-/AOh14GiWZ48HqYJJmPdDTueTtb12dMDVlabGiGyYWEXTkA=s64",
      "userId": "06389092743998374259"
     },
     "user_tz": -270
    },
    "id": "jp7YayEikf-M",
    "outputId": "5e01f057-ef70-4479-bbdd-25106e4104f0"
   },
   "outputs": [],
   "source": [
    "%%time\n",
    "%run finetune.py --train --use-cuda --train_path '/content/drive/My Drive/onlyOnWeb/covid19/covid-ct/COVID-CT/data/train' --test_path '/content/drive/My Drive/onlyOnWeb/covid19/covid-ct/COVID-CT/data/val'"
   ]
  },
  {
   "cell_type": "code",
   "execution_count": null,
   "metadata": {
    "colab": {
     "base_uri": "https://localhost:8080/",
     "height": 1000
    },
    "colab_type": "code",
    "executionInfo": {
     "elapsed": 836760,
     "status": "ok",
     "timestamp": 1599665063541,
     "user": {
      "displayName": "Mahmood Amintoosi",
      "photoUrl": "https://lh3.googleusercontent.com/a-/AOh14GiWZ48HqYJJmPdDTueTtb12dMDVlabGiGyYWEXTkA=s64",
      "userId": "06389092743998374259"
     },
     "user_tz": -270
    },
    "id": "MAhrCTM_q_w7",
    "outputId": "55744781-317e-4a73-b9ae-900d23893dac"
   },
   "outputs": [],
   "source": [
    "%%time\n",
    "%run finetune.py --prune --use-cuda --train_path '/content/drive/My Drive/onlyOnWeb/covid19/covid-ct/COVID-CT/data/train' --test_path '/content/drive/My Drive/onlyOnWeb/covid19/covid-ct/COVID-CT/data/val'"
   ]
  },
  {
   "cell_type": "code",
   "execution_count": null,
   "metadata": {
    "colab": {
     "base_uri": "https://localhost:8080/",
     "height": 850
    },
    "colab_type": "code",
    "executionInfo": {
     "elapsed": 6746,
     "status": "ok",
     "timestamp": 1599665104180,
     "user": {
      "displayName": "Mahmood Amintoosi",
      "photoUrl": "https://lh3.googleusercontent.com/a-/AOh14GiWZ48HqYJJmPdDTueTtb12dMDVlabGiGyYWEXTkA=s64",
      "userId": "06389092743998374259"
     },
     "user_tz": -270
    },
    "id": "YpPIn2ECMLdT",
    "outputId": "5f29b576-5f3d-4b79-f060-bae5f22ac4a5"
   },
   "outputs": [],
   "source": [
    "%run finetune.py --test --train_path '/content/drive/My Drive/onlyOnWeb/covid19/covid-ct/COVID-CT/data/train' --test_path '/content/drive/My Drive/onlyOnWeb/covid19/covid-ct/COVID-CT/data/test'"
   ]
  },
  {
   "cell_type": "code",
   "execution_count": null,
   "metadata": {},
   "outputs": [],
   "source": [
    "# %run finetune.py --test --train_path data/painting/train --test_path data/painting/test"
   ]
  }
 ],
 "metadata": {
  "accelerator": "GPU",
  "colab": {
   "collapsed_sections": [],
   "name": "painting_run_main_colab_GPU.ipynb",
   "provenance": []
  },
  "kernelspec": {
   "display_name": "Python 3",
   "language": "python",
   "name": "python3"
  },
  "language_info": {
   "codemirror_mode": {
    "name": "ipython",
    "version": 3
   },
   "file_extension": ".py",
   "mimetype": "text/x-python",
   "name": "python",
   "nbconvert_exporter": "python",
   "pygments_lexer": "ipython3",
   "version": "3.7.6"
  }
 },
 "nbformat": 4,
 "nbformat_minor": 1
}
